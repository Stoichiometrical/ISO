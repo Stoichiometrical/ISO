{
 "cells": [
  {
   "metadata": {},
   "cell_type": "markdown",
   "source": "## Preprocessing Tasks",
   "id": "1a73fd56fbc48847"
  },
  {
   "metadata": {
    "ExecuteTime": {
     "end_time": "2024-06-18T21:02:03.435419Z",
     "start_time": "2024-06-18T21:01:57.961082Z"
    }
   },
   "cell_type": "code",
   "source": [
    "import pandas as pd\n",
    "\n",
    "df = pd.read_csv(\"../new_sales_data.csv\")\n",
    "df.head(5)"
   ],
   "id": "1fdae34998e21641",
   "execution_count": 1,
   "outputs": []
  },
  {
   "metadata": {
    "ExecuteTime": {
     "end_time": "2024-06-17T10:55:12.412953Z",
     "start_time": "2024-06-17T10:55:11.020049Z"
    }
   },
   "cell_type": "code",
   "source": [
    "sales = df.head(50000)\n",
    "sales.to_csv(\"reduced.csv\")"
   ],
   "id": "84d4661232cf23e4",
   "execution_count": 4,
   "outputs": []
  },
  {
   "metadata": {
    "ExecuteTime": {
     "end_time": "2024-06-04T15:48:19.157539Z",
     "start_time": "2024-06-04T15:48:19.109625Z"
    }
   },
   "cell_type": "code",
   "source": "x= df.copy()\n",
   "id": "b355d91f0802a0e9",
   "execution_count": 3,
   "outputs": []
  },
  {
   "metadata": {
    "ExecuteTime": {
     "end_time": "2024-06-04T15:48:44.564480Z",
     "start_time": "2024-06-04T15:48:38.313341Z"
    }
   },
   "cell_type": "code",
   "source": [
    "\n",
    "df['InvoiceDate'] = pd.to_datetime(df['InvoiceDate'])\n",
    "\n",
    "# Replace 2010 with 2022\n",
    "df.loc[df['InvoiceDate'].dt.year == 2010, 'InvoiceDate'] = df.loc[df['InvoiceDate'].dt.year == 2010, 'InvoiceDate'].map(lambda x: x.replace(year=2022))\n",
    "\n",
    "# Replace 2011 with 2024\n",
    "df.loc[df['InvoiceDate'].dt.year == 2011, 'InvoiceDate'] = df.loc[df['InvoiceDate'].dt.year == 2011, 'InvoiceDate'].map(lambda x: x.replace(year=2024))\n",
    "df.head(5)"
   ],
   "id": "de06c864081a0583",
   "execution_count": 4,
   "outputs": []
  },
  {
   "metadata": {
    "ExecuteTime": {
     "end_time": "2024-06-04T15:50:59.279083Z",
     "start_time": "2024-06-04T15:50:49.633646Z"
    }
   },
   "cell_type": "code",
   "source": "df.to_csv(\"new_customer_data.csv\")",
   "id": "8132db40a677a4b2",
   "execution_count": 7,
   "outputs": []
  },
  {
   "metadata": {
    "ExecuteTime": {
     "end_time": "2024-06-04T21:22:37.051828Z",
     "start_time": "2024-06-04T21:22:37.016272Z"
    }
   },
   "cell_type": "code",
   "source": [
    "import numpy as np\n",
    "import pandas as pd\n",
    "\n",
    "# Define the date range\n",
    "start_date = '2024-01-01'\n",
    "end_date = '2024-12-31'\n",
    "\n",
    "# Generate a sequence of dates for the entire year\n",
    "date_range = pd.date_range(start=start_date, end=end_date, freq='D')\n",
    "\n",
    "# Create a DataFrame with the dates\n",
    "df = pd.DataFrame({'InvoiceDate': date_range})\n",
    "\n",
    "# Generate random quantities between 1 and 100 for each day\n",
    "df['Quantity'] = np.random.randint(150, 40000 , size=len(df))\n",
    "df.to_csv(\"forecast.csv\")\n",
    "\n",
    "print(df.head().to_markdown(index=False, numalign=\"left\", stralign=\"left\"))"
   ],
   "id": "c5e41f289978ad7e",
   "execution_count": 4,
   "outputs": []
  },
  {
   "metadata": {
    "ExecuteTime": {
     "end_time": "2024-06-18T07:12:47.267065Z",
     "start_time": "2024-06-18T07:12:47.232431Z"
    }
   },
   "cell_type": "code",
   "source": [
    "df = pd.read_csv(\"segment_data.csv\")\n",
    "df.columns"
   ],
   "id": "a5f8af9af425ba5d",
   "execution_count": 5,
   "outputs": []
  },
  {
   "metadata": {
    "ExecuteTime": {
     "end_time": "2024-06-18T07:31:39.871286Z",
     "start_time": "2024-06-18T07:31:39.861661Z"
    }
   },
   "cell_type": "code",
   "source": [
    "# Function to create marketing data\n",
    "def create_marketing_data(df):\n",
    "    \n",
    "    # Create the 'Status' column based on 'probability_alive'\n",
    "    df['Status'] = df['probability_alive'].apply(lambda x: 'inactive' if x < 0.4 else 'regular' if x < 0.6 else 'active')\n",
    "\n",
    "    # Create a Faker instance\n",
    "    fake = Faker()\n",
    "\n",
    "    # List of emails to include\n",
    "    specific_emails = ['davidtgondo@gmail.com', 'd.gondo@alustudent.com']\n",
    "\n",
    "    # Function to generate emails\n",
    "    def generate_email(index):\n",
    "        if index < len(specific_emails):\n",
    "            return specific_emails[index]\n",
    "        return fake.email()\n",
    "\n",
    "    # Generate emails and ensure specific emails are included\n",
    "    df['Email'] = [generate_email(i) for i in range(len(df))]\n",
    "\n",
    "    # Set segment to 'Test' for specific emails\n",
    "    df.loc[df['Email'].isin(specific_emails), 'Segment'] = 'Test'\n",
    "\n",
    "    # Select the required columns\n",
    "    result_df = df[['CustomerID', 'Email', 'Segment', 'Subsegment', 'Status']]\n",
    "\n",
    "    return result_df"
   ],
   "id": "5b486d8497040812",
   "execution_count": 12,
   "outputs": []
  },
  {
   "metadata": {
    "ExecuteTime": {
     "end_time": "2024-06-18T07:31:45.384394Z",
     "start_time": "2024-06-18T07:31:42.935380Z"
    }
   },
   "cell_type": "code",
   "source": [
    "xc =create_marketing_data(df)\n",
    "xc.head(5)"
   ],
   "id": "f0f838de4e410148",
   "execution_count": 13,
   "outputs": []
  },
  {
   "metadata": {
    "ExecuteTime": {
     "end_time": "2024-06-18T21:06:05.624408Z",
     "start_time": "2024-06-18T21:06:03.146094Z"
    }
   },
   "cell_type": "code",
   "source": [
    "from lifetimes.utils import summary_data_from_transaction_data\n",
    "from lifetimes import BetaGeoFitter, GammaGammaFitter\n",
    "\n",
    "\n",
    "def prepare_data(df, customer_id_col, datetime_col, monetary_value_col, observation_period_end):\n",
    "    summary = summary_data_from_transaction_data(\n",
    "        df,\n",
    "        customer_id_col=customer_id_col,\n",
    "        datetime_col=datetime_col,\n",
    "        monetary_value_col=monetary_value_col,\n",
    "        observation_period_end=observation_period_end\n",
    "    )\n",
    "    summary = summary[summary[\"monetary_value\"] > 0]\n",
    "    return summary\n",
    "\n",
    "\n",
    "\n",
    "\n",
    "\n",
    "def predict_variables(summary, bgf, ggf, threshold):\n",
    "    summary['probability_alive'] = bgf.conditional_probability_alive(\n",
    "        summary['frequency'],\n",
    "        summary['recency'],\n",
    "        summary['T']\n",
    "    )\n",
    "    summary['predicted_purchases'] = bgf.predict(30, summary['frequency'], summary['recency'], summary['T'])\n",
    "    summary['predicted_clv'] = ggf.customer_lifetime_value(\n",
    "        bgf,\n",
    "        summary['frequency'],\n",
    "        summary['recency'],\n",
    "        summary['T'],\n",
    "        summary['monetary_value'],\n",
    "        time=1,  # Lifetime expected for the user in months\n",
    "        freq='D',\n",
    "        discount_rate=0.01\n",
    "    )\n",
    "    summary[\"estimated_monetary_value\"] = ggf.conditional_expected_average_profit(\n",
    "        summary['frequency'],\n",
    "        summary['monetary_value']\n",
    "    )\n",
    "    return summary"
   ],
   "id": "a1b66233c9f015f1",
   "execution_count": 2,
   "outputs": []
  },
  {
   "metadata": {
    "ExecuteTime": {
     "end_time": "2024-06-18T21:18:28.958688Z",
     "start_time": "2024-06-18T21:18:28.953692Z"
    }
   },
   "cell_type": "code",
   "source": "d = df.head(5000)",
   "id": "8c1740d281dd2e4b",
   "execution_count": 22,
   "outputs": []
  },
  {
   "metadata": {
    "ExecuteTime": {
     "end_time": "2024-06-18T21:15:59.981737Z",
     "start_time": "2024-06-18T21:15:59.974449Z"
    }
   },
   "cell_type": "code",
   "source": [
    "def fit_models(summary):\n",
    "    bgf = BetaGeoFitter(penalizer_coef=0.5)\n",
    "    bgf.fit(summary['frequency'], summary['recency'], summary['T'])\n",
    "\n",
    "    ggf = GammaGammaFitter(penalizer_coef=0.0)\n",
    "    ggf.fit(summary['frequency'], summary['monetary_value'])\n",
    "\n",
    "    return bgf, ggf"
   ],
   "id": "c2e1ec399bbe8517",
   "execution_count": 11,
   "outputs": []
  },
  {
   "metadata": {
    "ExecuteTime": {
     "end_time": "2024-06-18T21:18:35.178972Z",
     "start_time": "2024-06-18T21:18:35.039187Z"
    }
   },
   "cell_type": "code",
   "source": [
    "summary = prepare_data(d,customer_id_col=\"CustomerID\",datetime_col='InvoiceDate',monetary_value_col='TotalPrice',observation_period_end=max(df[\"InvoiceDate\"]))\n",
    "summary.head(5)"
   ],
   "id": "a50fa253736a0dd7",
   "execution_count": 23,
   "outputs": []
  },
  {
   "metadata": {
    "ExecuteTime": {
     "end_time": "2024-06-18T21:16:28.068817Z",
     "start_time": "2024-06-18T21:16:27.704828Z"
    }
   },
   "cell_type": "code",
   "source": "bgf, ggf = fit_models(summary)",
   "id": "6a44fa568ffb40dc",
   "execution_count": 12,
   "outputs": []
  },
  {
   "metadata": {
    "ExecuteTime": {
     "end_time": "2024-06-18T21:19:29.421607Z",
     "start_time": "2024-06-18T21:19:29.373480Z"
    }
   },
   "cell_type": "code",
   "source": [
    "summary = predict_variables(summary,bgf, ggf,threshold=0.5)\n",
    "summary.head(5)"
   ],
   "id": "c66569fb8a92e0cf",
   "execution_count": 24,
   "outputs": []
  },
  {
   "metadata": {
    "ExecuteTime": {
     "end_time": "2024-06-18T21:19:34.515041Z",
     "start_time": "2024-06-18T21:19:34.443810Z"
    }
   },
   "cell_type": "code",
   "source": "d.to_csv(\"reduce.csv\",index=False)",
   "id": "c4285b9931739f67",
   "execution_count": 25,
   "outputs": []
  },
  {
   "metadata": {},
   "cell_type": "code",
   "execution_count": null,
   "source": "",
   "id": "71f39e3ae2d4991e",
   "outputs": []
  }
 ],
 "metadata": {
  "kernelspec": {
   "display_name": "Python 3",
   "language": "python",
   "name": "python3"
  },
  "language_info": {
   "codemirror_mode": {
    "name": "ipython",
    "version": 2
   },
   "file_extension": ".py",
   "mimetype": "text/x-python",
   "name": "python",
   "nbconvert_exporter": "python",
   "pygments_lexer": "ipython2",
   "version": "2.7.6"
  }
 },
 "nbformat": 4,
 "nbformat_minor": 5
}
