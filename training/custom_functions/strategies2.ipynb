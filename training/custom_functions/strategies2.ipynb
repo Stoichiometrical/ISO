{
 "cells": [
  {
   "cell_type": "code",
   "execution_count": 1,
   "id": "initial_id",
   "metadata": {
    "collapsed": true,
    "ExecuteTime": {
     "end_time": "2024-05-09T22:00:05.604865200Z",
     "start_time": "2024-05-09T22:00:05.484944200Z"
    }
   },
   "outputs": [],
   "source": [
    "import warnings\n",
    "warnings.filterwarnings('ignore')\n",
    "from fpgrowth_py import fpgrowth\n",
    "\n",
    "import numpy as np\n",
    "import pandas as pd\n",
    "import seaborn as sns\n",
    "import matplotlib.pyplot as plt\n",
    "import matplotlib.gridspec as gr"
   ]
  },
  {
   "cell_type": "code",
   "execution_count": 2,
   "outputs": [
    {
     "data": {
      "text/plain": "      Unnamed: 0  CustomerID  Days_Since_Last_Purchase  Total_Transactions  \\\n0              0     12346.0                       325                   2   \n1              1     12347.0                         2                   7   \n2              2     12348.0                        75                   4   \n3              3     12349.0                        18                   1   \n4              4     12350.0                       310                   1   \n...          ...         ...                       ...                 ...   \n4062        4062     18280.0                       277                   1   \n4063        4063     18281.0                       180                   1   \n4064        4064     18282.0                         7                   3   \n4065        4065     18283.0                         3                  16   \n4066        4066     18287.0                        42                   3   \n\n      Total_Products_Purchased  Total_Spend  Average_Transaction_Value  \\\n0                            0         0.00                   0.000000   \n1                         2458      4310.00                 615.714286   \n2                         2332      1437.24                 359.310000   \n3                          630      1457.55                1457.550000   \n4                          196       294.40                 294.400000   \n...                        ...          ...                        ...   \n4062                        45       180.60                 180.600000   \n4063                        54        80.82                  80.820000   \n4064                        98       176.60                  58.866667   \n4065                      1355      2039.58                 127.473750   \n4066                      1586      1837.28                 612.426667   \n\n      Unique_Products_Purchased  Average_Days_Between_Purchases  Day_Of_Week  \\\n0                             1                        0.000000            1   \n1                           103                        2.016575            1   \n2                            21                       10.884615            3   \n3                            72                        0.000000            0   \n4                            16                        0.000000            2   \n...                         ...                             ...          ...   \n4062                         10                        0.000000            0   \n4063                          7                        0.000000            6   \n4064                         12                        9.916667            4   \n4065                        262                        0.465181            3   \n4066                         59                        2.304348            2   \n\n      Hour  Is_UK  Cancellation_Frequency  Cancellation_Rate  \\\n0       10      1                       1           0.500000   \n1       14      0                       0           0.000000   \n2       19      0                       0           0.000000   \n3        9      0                       0           0.000000   \n4       16      0                       0           0.000000   \n...    ...    ...                     ...                ...   \n4062     9      1                       0           0.000000   \n4063    10      1                       0           0.000000   \n4064    13      1                       1           0.142857   \n4065    14      1                       0           0.000000   \n4066    10      1                       0           0.000000   \n\n      Monthly_Spending_Mean  Monthly_Spending_Std  Spending_Trend  cluster  \n0                  0.000000              0.000000        0.000000        1  \n1                615.714286            341.070789        4.486071        2  \n2                359.310000            203.875689     -100.884000        0  \n3               1457.550000              0.000000        0.000000        1  \n4                294.400000              0.000000        0.000000        1  \n...                     ...                   ...             ...      ...  \n4062             180.600000              0.000000        0.000000        1  \n4063              80.820000              0.000000        0.000000        0  \n4064              88.300000             14.792674      -20.920000        0  \n4065             203.958000            165.798738       22.319273        2  \n4066             918.640000            216.883792      306.720000        1  \n\n[4067 rows x 18 columns]",
      "text/html": "<div>\n<style scoped>\n    .dataframe tbody tr th:only-of-type {\n        vertical-align: middle;\n    }\n\n    .dataframe tbody tr th {\n        vertical-align: top;\n    }\n\n    .dataframe thead th {\n        text-align: right;\n    }\n</style>\n<table border=\"1\" class=\"dataframe\">\n  <thead>\n    <tr style=\"text-align: right;\">\n      <th></th>\n      <th>Unnamed: 0</th>\n      <th>CustomerID</th>\n      <th>Days_Since_Last_Purchase</th>\n      <th>Total_Transactions</th>\n      <th>Total_Products_Purchased</th>\n      <th>Total_Spend</th>\n      <th>Average_Transaction_Value</th>\n      <th>Unique_Products_Purchased</th>\n      <th>Average_Days_Between_Purchases</th>\n      <th>Day_Of_Week</th>\n      <th>Hour</th>\n      <th>Is_UK</th>\n      <th>Cancellation_Frequency</th>\n      <th>Cancellation_Rate</th>\n      <th>Monthly_Spending_Mean</th>\n      <th>Monthly_Spending_Std</th>\n      <th>Spending_Trend</th>\n      <th>cluster</th>\n    </tr>\n  </thead>\n  <tbody>\n    <tr>\n      <th>0</th>\n      <td>0</td>\n      <td>12346.0</td>\n      <td>325</td>\n      <td>2</td>\n      <td>0</td>\n      <td>0.00</td>\n      <td>0.000000</td>\n      <td>1</td>\n      <td>0.000000</td>\n      <td>1</td>\n      <td>10</td>\n      <td>1</td>\n      <td>1</td>\n      <td>0.500000</td>\n      <td>0.000000</td>\n      <td>0.000000</td>\n      <td>0.000000</td>\n      <td>1</td>\n    </tr>\n    <tr>\n      <th>1</th>\n      <td>1</td>\n      <td>12347.0</td>\n      <td>2</td>\n      <td>7</td>\n      <td>2458</td>\n      <td>4310.00</td>\n      <td>615.714286</td>\n      <td>103</td>\n      <td>2.016575</td>\n      <td>1</td>\n      <td>14</td>\n      <td>0</td>\n      <td>0</td>\n      <td>0.000000</td>\n      <td>615.714286</td>\n      <td>341.070789</td>\n      <td>4.486071</td>\n      <td>2</td>\n    </tr>\n    <tr>\n      <th>2</th>\n      <td>2</td>\n      <td>12348.0</td>\n      <td>75</td>\n      <td>4</td>\n      <td>2332</td>\n      <td>1437.24</td>\n      <td>359.310000</td>\n      <td>21</td>\n      <td>10.884615</td>\n      <td>3</td>\n      <td>19</td>\n      <td>0</td>\n      <td>0</td>\n      <td>0.000000</td>\n      <td>359.310000</td>\n      <td>203.875689</td>\n      <td>-100.884000</td>\n      <td>0</td>\n    </tr>\n    <tr>\n      <th>3</th>\n      <td>3</td>\n      <td>12349.0</td>\n      <td>18</td>\n      <td>1</td>\n      <td>630</td>\n      <td>1457.55</td>\n      <td>1457.550000</td>\n      <td>72</td>\n      <td>0.000000</td>\n      <td>0</td>\n      <td>9</td>\n      <td>0</td>\n      <td>0</td>\n      <td>0.000000</td>\n      <td>1457.550000</td>\n      <td>0.000000</td>\n      <td>0.000000</td>\n      <td>1</td>\n    </tr>\n    <tr>\n      <th>4</th>\n      <td>4</td>\n      <td>12350.0</td>\n      <td>310</td>\n      <td>1</td>\n      <td>196</td>\n      <td>294.40</td>\n      <td>294.400000</td>\n      <td>16</td>\n      <td>0.000000</td>\n      <td>2</td>\n      <td>16</td>\n      <td>0</td>\n      <td>0</td>\n      <td>0.000000</td>\n      <td>294.400000</td>\n      <td>0.000000</td>\n      <td>0.000000</td>\n      <td>1</td>\n    </tr>\n    <tr>\n      <th>...</th>\n      <td>...</td>\n      <td>...</td>\n      <td>...</td>\n      <td>...</td>\n      <td>...</td>\n      <td>...</td>\n      <td>...</td>\n      <td>...</td>\n      <td>...</td>\n      <td>...</td>\n      <td>...</td>\n      <td>...</td>\n      <td>...</td>\n      <td>...</td>\n      <td>...</td>\n      <td>...</td>\n      <td>...</td>\n      <td>...</td>\n    </tr>\n    <tr>\n      <th>4062</th>\n      <td>4062</td>\n      <td>18280.0</td>\n      <td>277</td>\n      <td>1</td>\n      <td>45</td>\n      <td>180.60</td>\n      <td>180.600000</td>\n      <td>10</td>\n      <td>0.000000</td>\n      <td>0</td>\n      <td>9</td>\n      <td>1</td>\n      <td>0</td>\n      <td>0.000000</td>\n      <td>180.600000</td>\n      <td>0.000000</td>\n      <td>0.000000</td>\n      <td>1</td>\n    </tr>\n    <tr>\n      <th>4063</th>\n      <td>4063</td>\n      <td>18281.0</td>\n      <td>180</td>\n      <td>1</td>\n      <td>54</td>\n      <td>80.82</td>\n      <td>80.820000</td>\n      <td>7</td>\n      <td>0.000000</td>\n      <td>6</td>\n      <td>10</td>\n      <td>1</td>\n      <td>0</td>\n      <td>0.000000</td>\n      <td>80.820000</td>\n      <td>0.000000</td>\n      <td>0.000000</td>\n      <td>0</td>\n    </tr>\n    <tr>\n      <th>4064</th>\n      <td>4064</td>\n      <td>18282.0</td>\n      <td>7</td>\n      <td>3</td>\n      <td>98</td>\n      <td>176.60</td>\n      <td>58.866667</td>\n      <td>12</td>\n      <td>9.916667</td>\n      <td>4</td>\n      <td>13</td>\n      <td>1</td>\n      <td>1</td>\n      <td>0.142857</td>\n      <td>88.300000</td>\n      <td>14.792674</td>\n      <td>-20.920000</td>\n      <td>0</td>\n    </tr>\n    <tr>\n      <th>4065</th>\n      <td>4065</td>\n      <td>18283.0</td>\n      <td>3</td>\n      <td>16</td>\n      <td>1355</td>\n      <td>2039.58</td>\n      <td>127.473750</td>\n      <td>262</td>\n      <td>0.465181</td>\n      <td>3</td>\n      <td>14</td>\n      <td>1</td>\n      <td>0</td>\n      <td>0.000000</td>\n      <td>203.958000</td>\n      <td>165.798738</td>\n      <td>22.319273</td>\n      <td>2</td>\n    </tr>\n    <tr>\n      <th>4066</th>\n      <td>4066</td>\n      <td>18287.0</td>\n      <td>42</td>\n      <td>3</td>\n      <td>1586</td>\n      <td>1837.28</td>\n      <td>612.426667</td>\n      <td>59</td>\n      <td>2.304348</td>\n      <td>2</td>\n      <td>10</td>\n      <td>1</td>\n      <td>0</td>\n      <td>0.000000</td>\n      <td>918.640000</td>\n      <td>216.883792</td>\n      <td>306.720000</td>\n      <td>1</td>\n    </tr>\n  </tbody>\n</table>\n<p>4067 rows × 18 columns</p>\n</div>"
     },
     "execution_count": 2,
     "metadata": {},
     "output_type": "execute_result"
    }
   ],
   "source": [
    "df = pd.read_csv(\"main.csv\")\n",
    "df"
   ],
   "metadata": {
    "collapsed": false,
    "ExecuteTime": {
     "end_time": "2024-03-06T04:42:34.856039400Z",
     "start_time": "2024-03-06T04:42:34.625161Z"
    }
   },
   "id": "ce47ef3dcac1c236"
  },
  {
   "cell_type": "code",
   "execution_count": 3,
   "outputs": [
    {
     "data": {
      "text/plain": "      CustomerID  cluster  Days_Since_Last_Purchase  \\\n0        12346.0        1                       325   \n1        12347.0        2                         2   \n2        12348.0        0                        75   \n3        12349.0        1                        18   \n4        12350.0        1                       310   \n...          ...      ...                       ...   \n4062     18280.0        1                       277   \n4063     18281.0        0                       180   \n4064     18282.0        0                         7   \n4065     18283.0        2                         3   \n4066     18287.0        1                        42   \n\n      Average_Days_Between_Purchases  Average_Transaction_Value  \n0                           0.000000                   0.000000  \n1                           2.016575                 615.714286  \n2                          10.884615                 359.310000  \n3                           0.000000                1457.550000  \n4                           0.000000                 294.400000  \n...                              ...                        ...  \n4062                        0.000000                 180.600000  \n4063                        0.000000                  80.820000  \n4064                        9.916667                  58.866667  \n4065                        0.465181                 127.473750  \n4066                        2.304348                 612.426667  \n\n[4067 rows x 5 columns]",
      "text/html": "<div>\n<style scoped>\n    .dataframe tbody tr th:only-of-type {\n        vertical-align: middle;\n    }\n\n    .dataframe tbody tr th {\n        vertical-align: top;\n    }\n\n    .dataframe thead th {\n        text-align: right;\n    }\n</style>\n<table border=\"1\" class=\"dataframe\">\n  <thead>\n    <tr style=\"text-align: right;\">\n      <th></th>\n      <th>CustomerID</th>\n      <th>cluster</th>\n      <th>Days_Since_Last_Purchase</th>\n      <th>Average_Days_Between_Purchases</th>\n      <th>Average_Transaction_Value</th>\n    </tr>\n  </thead>\n  <tbody>\n    <tr>\n      <th>0</th>\n      <td>12346.0</td>\n      <td>1</td>\n      <td>325</td>\n      <td>0.000000</td>\n      <td>0.000000</td>\n    </tr>\n    <tr>\n      <th>1</th>\n      <td>12347.0</td>\n      <td>2</td>\n      <td>2</td>\n      <td>2.016575</td>\n      <td>615.714286</td>\n    </tr>\n    <tr>\n      <th>2</th>\n      <td>12348.0</td>\n      <td>0</td>\n      <td>75</td>\n      <td>10.884615</td>\n      <td>359.310000</td>\n    </tr>\n    <tr>\n      <th>3</th>\n      <td>12349.0</td>\n      <td>1</td>\n      <td>18</td>\n      <td>0.000000</td>\n      <td>1457.550000</td>\n    </tr>\n    <tr>\n      <th>4</th>\n      <td>12350.0</td>\n      <td>1</td>\n      <td>310</td>\n      <td>0.000000</td>\n      <td>294.400000</td>\n    </tr>\n    <tr>\n      <th>...</th>\n      <td>...</td>\n      <td>...</td>\n      <td>...</td>\n      <td>...</td>\n      <td>...</td>\n    </tr>\n    <tr>\n      <th>4062</th>\n      <td>18280.0</td>\n      <td>1</td>\n      <td>277</td>\n      <td>0.000000</td>\n      <td>180.600000</td>\n    </tr>\n    <tr>\n      <th>4063</th>\n      <td>18281.0</td>\n      <td>0</td>\n      <td>180</td>\n      <td>0.000000</td>\n      <td>80.820000</td>\n    </tr>\n    <tr>\n      <th>4064</th>\n      <td>18282.0</td>\n      <td>0</td>\n      <td>7</td>\n      <td>9.916667</td>\n      <td>58.866667</td>\n    </tr>\n    <tr>\n      <th>4065</th>\n      <td>18283.0</td>\n      <td>2</td>\n      <td>3</td>\n      <td>0.465181</td>\n      <td>127.473750</td>\n    </tr>\n    <tr>\n      <th>4066</th>\n      <td>18287.0</td>\n      <td>1</td>\n      <td>42</td>\n      <td>2.304348</td>\n      <td>612.426667</td>\n    </tr>\n  </tbody>\n</table>\n<p>4067 rows × 5 columns</p>\n</div>"
     },
     "execution_count": 3,
     "metadata": {},
     "output_type": "execute_result"
    }
   ],
   "source": [
    "x1 = df[[\"CustomerID\",\"cluster\",\"Days_Since_Last_Purchase\",\"Average_Days_Between_Purchases\",\"Average_Transaction_Value\"]]\n",
    "x1"
   ],
   "metadata": {
    "collapsed": false,
    "ExecuteTime": {
     "end_time": "2024-03-06T04:42:34.966070100Z",
     "start_time": "2024-03-06T04:42:34.840396200Z"
    }
   },
   "id": "e350a5d572c3a535"
  },
  {
   "cell_type": "code",
   "execution_count": 4,
   "outputs": [
    {
     "data": {
      "text/plain": "      CustomerID  cluster  Days_Since_Last_Purchase  \\\n0        12346.0        1                       325   \n1        12347.0        2                         2   \n2        12348.0        0                        75   \n3        12349.0        1                        18   \n4        12350.0        1                       310   \n...          ...      ...                       ...   \n4062     18280.0        1                       277   \n4063     18281.0        0                       180   \n4064     18282.0        0                         7   \n4065     18283.0        2                         3   \n4066     18287.0        1                        42   \n\n      Average_Days_Between_Purchases  Average_Transaction_Value R_score  \\\n0                           0.000000                   0.000000       3   \n1                           2.016575                 615.714286       1   \n2                          10.884615                 359.310000       2   \n3                           0.000000                1457.550000       1   \n4                           0.000000                 294.400000       3   \n...                              ...                        ...     ...   \n4062                        0.000000                 180.600000       3   \n4063                        0.000000                  80.820000       3   \n4064                        9.916667                  58.866667       1   \n4065                        0.465181                 127.473750       1   \n4066                        2.304348                 612.426667       2   \n\n     F_score M_score  \n0          1       1  \n1          2       3  \n2          3       3  \n3          1       3  \n4          1       2  \n...      ...     ...  \n4062       1       2  \n4063       1       1  \n4064       3       1  \n4065       2       1  \n4066       2       3  \n\n[4067 rows x 8 columns]",
      "text/html": "<div>\n<style scoped>\n    .dataframe tbody tr th:only-of-type {\n        vertical-align: middle;\n    }\n\n    .dataframe tbody tr th {\n        vertical-align: top;\n    }\n\n    .dataframe thead th {\n        text-align: right;\n    }\n</style>\n<table border=\"1\" class=\"dataframe\">\n  <thead>\n    <tr style=\"text-align: right;\">\n      <th></th>\n      <th>CustomerID</th>\n      <th>cluster</th>\n      <th>Days_Since_Last_Purchase</th>\n      <th>Average_Days_Between_Purchases</th>\n      <th>Average_Transaction_Value</th>\n      <th>R_score</th>\n      <th>F_score</th>\n      <th>M_score</th>\n    </tr>\n  </thead>\n  <tbody>\n    <tr>\n      <th>0</th>\n      <td>12346.0</td>\n      <td>1</td>\n      <td>325</td>\n      <td>0.000000</td>\n      <td>0.000000</td>\n      <td>3</td>\n      <td>1</td>\n      <td>1</td>\n    </tr>\n    <tr>\n      <th>1</th>\n      <td>12347.0</td>\n      <td>2</td>\n      <td>2</td>\n      <td>2.016575</td>\n      <td>615.714286</td>\n      <td>1</td>\n      <td>2</td>\n      <td>3</td>\n    </tr>\n    <tr>\n      <th>2</th>\n      <td>12348.0</td>\n      <td>0</td>\n      <td>75</td>\n      <td>10.884615</td>\n      <td>359.310000</td>\n      <td>2</td>\n      <td>3</td>\n      <td>3</td>\n    </tr>\n    <tr>\n      <th>3</th>\n      <td>12349.0</td>\n      <td>1</td>\n      <td>18</td>\n      <td>0.000000</td>\n      <td>1457.550000</td>\n      <td>1</td>\n      <td>1</td>\n      <td>3</td>\n    </tr>\n    <tr>\n      <th>4</th>\n      <td>12350.0</td>\n      <td>1</td>\n      <td>310</td>\n      <td>0.000000</td>\n      <td>294.400000</td>\n      <td>3</td>\n      <td>1</td>\n      <td>2</td>\n    </tr>\n    <tr>\n      <th>...</th>\n      <td>...</td>\n      <td>...</td>\n      <td>...</td>\n      <td>...</td>\n      <td>...</td>\n      <td>...</td>\n      <td>...</td>\n      <td>...</td>\n    </tr>\n    <tr>\n      <th>4062</th>\n      <td>18280.0</td>\n      <td>1</td>\n      <td>277</td>\n      <td>0.000000</td>\n      <td>180.600000</td>\n      <td>3</td>\n      <td>1</td>\n      <td>2</td>\n    </tr>\n    <tr>\n      <th>4063</th>\n      <td>18281.0</td>\n      <td>0</td>\n      <td>180</td>\n      <td>0.000000</td>\n      <td>80.820000</td>\n      <td>3</td>\n      <td>1</td>\n      <td>1</td>\n    </tr>\n    <tr>\n      <th>4064</th>\n      <td>18282.0</td>\n      <td>0</td>\n      <td>7</td>\n      <td>9.916667</td>\n      <td>58.866667</td>\n      <td>1</td>\n      <td>3</td>\n      <td>1</td>\n    </tr>\n    <tr>\n      <th>4065</th>\n      <td>18283.0</td>\n      <td>2</td>\n      <td>3</td>\n      <td>0.465181</td>\n      <td>127.473750</td>\n      <td>1</td>\n      <td>2</td>\n      <td>1</td>\n    </tr>\n    <tr>\n      <th>4066</th>\n      <td>18287.0</td>\n      <td>1</td>\n      <td>42</td>\n      <td>2.304348</td>\n      <td>612.426667</td>\n      <td>2</td>\n      <td>2</td>\n      <td>3</td>\n    </tr>\n  </tbody>\n</table>\n<p>4067 rows × 8 columns</p>\n</div>"
     },
     "execution_count": 4,
     "metadata": {},
     "output_type": "execute_result"
    }
   ],
   "source": [
    "x1['R_score'] = pd.qcut(x1['Days_Since_Last_Purchase'], q=3, labels=[1, 2, 3])  # High recency will have a score of 1\n",
    "x1['F_score'] = pd.qcut(x1['Average_Days_Between_Purchases'], q=3, labels=[1, 2, 3]) \n",
    "x1['M_score'] = pd.qcut(x1['Average_Transaction_Value'], q=3, labels=[1, 2, 3]) \n",
    "x1"
   ],
   "metadata": {
    "collapsed": false,
    "ExecuteTime": {
     "end_time": "2024-03-06T04:42:35.151054800Z",
     "start_time": "2024-03-06T04:42:34.903549600Z"
    }
   },
   "id": "f2a55f51ca03d7e"
  },
  {
   "cell_type": "code",
   "execution_count": 5,
   "outputs": [
    {
     "data": {
      "text/plain": "      CustomerID  cluster  Days_Since_Last_Purchase  \\\n0        12346.0        1                       325   \n1        12347.0        2                         2   \n2        12348.0        0                        75   \n3        12349.0        1                        18   \n4        12350.0        1                       310   \n...          ...      ...                       ...   \n4062     18280.0        1                       277   \n4063     18281.0        0                       180   \n4064     18282.0        0                         7   \n4065     18283.0        2                         3   \n4066     18287.0        1                        42   \n\n      Average_Days_Between_Purchases  Average_Transaction_Value R_score  \\\n0                           0.000000                   0.000000       3   \n1                           2.016575                 615.714286       1   \n2                          10.884615                 359.310000       2   \n3                           0.000000                1457.550000       1   \n4                           0.000000                 294.400000       3   \n...                              ...                        ...     ...   \n4062                        0.000000                 180.600000       3   \n4063                        0.000000                  80.820000       3   \n4064                        9.916667                  58.866667       1   \n4065                        0.465181                 127.473750       1   \n4066                        2.304348                 612.426667       2   \n\n     F_score M_score  RFM  \n0          1       1  311  \n1          2       3  123  \n2          3       3  233  \n3          1       3  113  \n4          1       2  312  \n...      ...     ...  ...  \n4062       1       2  312  \n4063       1       1  311  \n4064       3       1  131  \n4065       2       1  121  \n4066       2       3  223  \n\n[4067 rows x 9 columns]",
      "text/html": "<div>\n<style scoped>\n    .dataframe tbody tr th:only-of-type {\n        vertical-align: middle;\n    }\n\n    .dataframe tbody tr th {\n        vertical-align: top;\n    }\n\n    .dataframe thead th {\n        text-align: right;\n    }\n</style>\n<table border=\"1\" class=\"dataframe\">\n  <thead>\n    <tr style=\"text-align: right;\">\n      <th></th>\n      <th>CustomerID</th>\n      <th>cluster</th>\n      <th>Days_Since_Last_Purchase</th>\n      <th>Average_Days_Between_Purchases</th>\n      <th>Average_Transaction_Value</th>\n      <th>R_score</th>\n      <th>F_score</th>\n      <th>M_score</th>\n      <th>RFM</th>\n    </tr>\n  </thead>\n  <tbody>\n    <tr>\n      <th>0</th>\n      <td>12346.0</td>\n      <td>1</td>\n      <td>325</td>\n      <td>0.000000</td>\n      <td>0.000000</td>\n      <td>3</td>\n      <td>1</td>\n      <td>1</td>\n      <td>311</td>\n    </tr>\n    <tr>\n      <th>1</th>\n      <td>12347.0</td>\n      <td>2</td>\n      <td>2</td>\n      <td>2.016575</td>\n      <td>615.714286</td>\n      <td>1</td>\n      <td>2</td>\n      <td>3</td>\n      <td>123</td>\n    </tr>\n    <tr>\n      <th>2</th>\n      <td>12348.0</td>\n      <td>0</td>\n      <td>75</td>\n      <td>10.884615</td>\n      <td>359.310000</td>\n      <td>2</td>\n      <td>3</td>\n      <td>3</td>\n      <td>233</td>\n    </tr>\n    <tr>\n      <th>3</th>\n      <td>12349.0</td>\n      <td>1</td>\n      <td>18</td>\n      <td>0.000000</td>\n      <td>1457.550000</td>\n      <td>1</td>\n      <td>1</td>\n      <td>3</td>\n      <td>113</td>\n    </tr>\n    <tr>\n      <th>4</th>\n      <td>12350.0</td>\n      <td>1</td>\n      <td>310</td>\n      <td>0.000000</td>\n      <td>294.400000</td>\n      <td>3</td>\n      <td>1</td>\n      <td>2</td>\n      <td>312</td>\n    </tr>\n    <tr>\n      <th>...</th>\n      <td>...</td>\n      <td>...</td>\n      <td>...</td>\n      <td>...</td>\n      <td>...</td>\n      <td>...</td>\n      <td>...</td>\n      <td>...</td>\n      <td>...</td>\n    </tr>\n    <tr>\n      <th>4062</th>\n      <td>18280.0</td>\n      <td>1</td>\n      <td>277</td>\n      <td>0.000000</td>\n      <td>180.600000</td>\n      <td>3</td>\n      <td>1</td>\n      <td>2</td>\n      <td>312</td>\n    </tr>\n    <tr>\n      <th>4063</th>\n      <td>18281.0</td>\n      <td>0</td>\n      <td>180</td>\n      <td>0.000000</td>\n      <td>80.820000</td>\n      <td>3</td>\n      <td>1</td>\n      <td>1</td>\n      <td>311</td>\n    </tr>\n    <tr>\n      <th>4064</th>\n      <td>18282.0</td>\n      <td>0</td>\n      <td>7</td>\n      <td>9.916667</td>\n      <td>58.866667</td>\n      <td>1</td>\n      <td>3</td>\n      <td>1</td>\n      <td>131</td>\n    </tr>\n    <tr>\n      <th>4065</th>\n      <td>18283.0</td>\n      <td>2</td>\n      <td>3</td>\n      <td>0.465181</td>\n      <td>127.473750</td>\n      <td>1</td>\n      <td>2</td>\n      <td>1</td>\n      <td>121</td>\n    </tr>\n    <tr>\n      <th>4066</th>\n      <td>18287.0</td>\n      <td>1</td>\n      <td>42</td>\n      <td>2.304348</td>\n      <td>612.426667</td>\n      <td>2</td>\n      <td>2</td>\n      <td>3</td>\n      <td>223</td>\n    </tr>\n  </tbody>\n</table>\n<p>4067 rows × 9 columns</p>\n</div>"
     },
     "execution_count": 5,
     "metadata": {},
     "output_type": "execute_result"
    }
   ],
   "source": [
    "x1['RFM'] = x1[['R_score', 'F_score', 'M_score']].astype(str).agg(''.join, axis=1)\n",
    "x1"
   ],
   "metadata": {
    "collapsed": false,
    "ExecuteTime": {
     "end_time": "2024-03-06T04:42:35.451742200Z",
     "start_time": "2024-03-06T04:42:34.998132700Z"
    }
   },
   "id": "54e4b9f5b2391308"
  },
  {
   "cell_type": "code",
   "execution_count": 6,
   "outputs": [],
   "source": [
    "def assign_cluster(score):\n",
    "    high_value_scores = ['111', '112', '113', '121', '122', '123']\n",
    "    nurture_scores = ['133', '213', '222', '223', '232', '233']\n",
    "    risk_scores = ['131', '132', '231', '311', '312', '313', '321', '322', '323', '331', '332', '333']\n",
    "\n",
    "    if score in high_value_scores:\n",
    "        return 'High Value'\n",
    "    elif score in nurture_scores:\n",
    "        return 'Nurture'\n",
    "    elif score in risk_scores:\n",
    "        return 'Risk'\n",
    "    else:\n",
    "        return 'Other'"
   ],
   "metadata": {
    "collapsed": false,
    "ExecuteTime": {
     "end_time": "2024-03-06T04:42:35.530342500Z",
     "start_time": "2024-03-06T04:42:35.189510100Z"
    }
   },
   "id": "ee02973f88f1e177"
  },
  {
   "cell_type": "code",
   "execution_count": 7,
   "outputs": [
    {
     "data": {
      "text/plain": "      CustomerID  cluster  Days_Since_Last_Purchase  \\\n0        12346.0        1                       325   \n1        12347.0        2                         2   \n2        12348.0        0                        75   \n3        12349.0        1                        18   \n4        12350.0        1                       310   \n...          ...      ...                       ...   \n4062     18280.0        1                       277   \n4063     18281.0        0                       180   \n4064     18282.0        0                         7   \n4065     18283.0        2                         3   \n4066     18287.0        1                        42   \n\n      Average_Days_Between_Purchases  Average_Transaction_Value R_score  \\\n0                           0.000000                   0.000000       3   \n1                           2.016575                 615.714286       1   \n2                          10.884615                 359.310000       2   \n3                           0.000000                1457.550000       1   \n4                           0.000000                 294.400000       3   \n...                              ...                        ...     ...   \n4062                        0.000000                 180.600000       3   \n4063                        0.000000                  80.820000       3   \n4064                        9.916667                  58.866667       1   \n4065                        0.465181                 127.473750       1   \n4066                        2.304348                 612.426667       2   \n\n     F_score M_score  RFM     Segment  \n0          1       1  311        Risk  \n1          2       3  123  High Value  \n2          3       3  233     Nurture  \n3          1       3  113  High Value  \n4          1       2  312        Risk  \n...      ...     ...  ...         ...  \n4062       1       2  312        Risk  \n4063       1       1  311        Risk  \n4064       3       1  131        Risk  \n4065       2       1  121  High Value  \n4066       2       3  223     Nurture  \n\n[4067 rows x 10 columns]",
      "text/html": "<div>\n<style scoped>\n    .dataframe tbody tr th:only-of-type {\n        vertical-align: middle;\n    }\n\n    .dataframe tbody tr th {\n        vertical-align: top;\n    }\n\n    .dataframe thead th {\n        text-align: right;\n    }\n</style>\n<table border=\"1\" class=\"dataframe\">\n  <thead>\n    <tr style=\"text-align: right;\">\n      <th></th>\n      <th>CustomerID</th>\n      <th>cluster</th>\n      <th>Days_Since_Last_Purchase</th>\n      <th>Average_Days_Between_Purchases</th>\n      <th>Average_Transaction_Value</th>\n      <th>R_score</th>\n      <th>F_score</th>\n      <th>M_score</th>\n      <th>RFM</th>\n      <th>Segment</th>\n    </tr>\n  </thead>\n  <tbody>\n    <tr>\n      <th>0</th>\n      <td>12346.0</td>\n      <td>1</td>\n      <td>325</td>\n      <td>0.000000</td>\n      <td>0.000000</td>\n      <td>3</td>\n      <td>1</td>\n      <td>1</td>\n      <td>311</td>\n      <td>Risk</td>\n    </tr>\n    <tr>\n      <th>1</th>\n      <td>12347.0</td>\n      <td>2</td>\n      <td>2</td>\n      <td>2.016575</td>\n      <td>615.714286</td>\n      <td>1</td>\n      <td>2</td>\n      <td>3</td>\n      <td>123</td>\n      <td>High Value</td>\n    </tr>\n    <tr>\n      <th>2</th>\n      <td>12348.0</td>\n      <td>0</td>\n      <td>75</td>\n      <td>10.884615</td>\n      <td>359.310000</td>\n      <td>2</td>\n      <td>3</td>\n      <td>3</td>\n      <td>233</td>\n      <td>Nurture</td>\n    </tr>\n    <tr>\n      <th>3</th>\n      <td>12349.0</td>\n      <td>1</td>\n      <td>18</td>\n      <td>0.000000</td>\n      <td>1457.550000</td>\n      <td>1</td>\n      <td>1</td>\n      <td>3</td>\n      <td>113</td>\n      <td>High Value</td>\n    </tr>\n    <tr>\n      <th>4</th>\n      <td>12350.0</td>\n      <td>1</td>\n      <td>310</td>\n      <td>0.000000</td>\n      <td>294.400000</td>\n      <td>3</td>\n      <td>1</td>\n      <td>2</td>\n      <td>312</td>\n      <td>Risk</td>\n    </tr>\n    <tr>\n      <th>...</th>\n      <td>...</td>\n      <td>...</td>\n      <td>...</td>\n      <td>...</td>\n      <td>...</td>\n      <td>...</td>\n      <td>...</td>\n      <td>...</td>\n      <td>...</td>\n      <td>...</td>\n    </tr>\n    <tr>\n      <th>4062</th>\n      <td>18280.0</td>\n      <td>1</td>\n      <td>277</td>\n      <td>0.000000</td>\n      <td>180.600000</td>\n      <td>3</td>\n      <td>1</td>\n      <td>2</td>\n      <td>312</td>\n      <td>Risk</td>\n    </tr>\n    <tr>\n      <th>4063</th>\n      <td>18281.0</td>\n      <td>0</td>\n      <td>180</td>\n      <td>0.000000</td>\n      <td>80.820000</td>\n      <td>3</td>\n      <td>1</td>\n      <td>1</td>\n      <td>311</td>\n      <td>Risk</td>\n    </tr>\n    <tr>\n      <th>4064</th>\n      <td>18282.0</td>\n      <td>0</td>\n      <td>7</td>\n      <td>9.916667</td>\n      <td>58.866667</td>\n      <td>1</td>\n      <td>3</td>\n      <td>1</td>\n      <td>131</td>\n      <td>Risk</td>\n    </tr>\n    <tr>\n      <th>4065</th>\n      <td>18283.0</td>\n      <td>2</td>\n      <td>3</td>\n      <td>0.465181</td>\n      <td>127.473750</td>\n      <td>1</td>\n      <td>2</td>\n      <td>1</td>\n      <td>121</td>\n      <td>High Value</td>\n    </tr>\n    <tr>\n      <th>4066</th>\n      <td>18287.0</td>\n      <td>1</td>\n      <td>42</td>\n      <td>2.304348</td>\n      <td>612.426667</td>\n      <td>2</td>\n      <td>2</td>\n      <td>3</td>\n      <td>223</td>\n      <td>Nurture</td>\n    </tr>\n  </tbody>\n</table>\n<p>4067 rows × 10 columns</p>\n</div>"
     },
     "execution_count": 7,
     "metadata": {},
     "output_type": "execute_result"
    }
   ],
   "source": [
    "x1['Segment'] = x1['RFM'].apply(assign_cluster)\n",
    "x1"
   ],
   "metadata": {
    "collapsed": false,
    "ExecuteTime": {
     "end_time": "2024-03-06T04:42:35.530342500Z",
     "start_time": "2024-03-06T04:42:35.199295400Z"
    }
   },
   "id": "89f9db3a70353fbf"
  },
  {
   "cell_type": "code",
   "execution_count": 8,
   "outputs": [
    {
     "data": {
      "text/plain": "      CustomerID     Segment\n0        12346.0        Risk\n1        12347.0  High Value\n2        12348.0     Nurture\n3        12349.0  High Value\n4        12350.0        Risk\n...          ...         ...\n4062     18280.0        Risk\n4063     18281.0        Risk\n4064     18282.0        Risk\n4065     18283.0  High Value\n4066     18287.0     Nurture\n\n[4067 rows x 2 columns]",
      "text/html": "<div>\n<style scoped>\n    .dataframe tbody tr th:only-of-type {\n        vertical-align: middle;\n    }\n\n    .dataframe tbody tr th {\n        vertical-align: top;\n    }\n\n    .dataframe thead th {\n        text-align: right;\n    }\n</style>\n<table border=\"1\" class=\"dataframe\">\n  <thead>\n    <tr style=\"text-align: right;\">\n      <th></th>\n      <th>CustomerID</th>\n      <th>Segment</th>\n    </tr>\n  </thead>\n  <tbody>\n    <tr>\n      <th>0</th>\n      <td>12346.0</td>\n      <td>Risk</td>\n    </tr>\n    <tr>\n      <th>1</th>\n      <td>12347.0</td>\n      <td>High Value</td>\n    </tr>\n    <tr>\n      <th>2</th>\n      <td>12348.0</td>\n      <td>Nurture</td>\n    </tr>\n    <tr>\n      <th>3</th>\n      <td>12349.0</td>\n      <td>High Value</td>\n    </tr>\n    <tr>\n      <th>4</th>\n      <td>12350.0</td>\n      <td>Risk</td>\n    </tr>\n    <tr>\n      <th>...</th>\n      <td>...</td>\n      <td>...</td>\n    </tr>\n    <tr>\n      <th>4062</th>\n      <td>18280.0</td>\n      <td>Risk</td>\n    </tr>\n    <tr>\n      <th>4063</th>\n      <td>18281.0</td>\n      <td>Risk</td>\n    </tr>\n    <tr>\n      <th>4064</th>\n      <td>18282.0</td>\n      <td>Risk</td>\n    </tr>\n    <tr>\n      <th>4065</th>\n      <td>18283.0</td>\n      <td>High Value</td>\n    </tr>\n    <tr>\n      <th>4066</th>\n      <td>18287.0</td>\n      <td>Nurture</td>\n    </tr>\n  </tbody>\n</table>\n<p>4067 rows × 2 columns</p>\n</div>"
     },
     "execution_count": 8,
     "metadata": {},
     "output_type": "execute_result"
    }
   ],
   "source": [
    "xci = x1[[\"CustomerID\",\"Segment\"]]\n",
    "\n",
    "xci"
   ],
   "metadata": {
    "collapsed": false,
    "ExecuteTime": {
     "end_time": "2024-03-06T04:42:35.530342500Z",
     "start_time": "2024-03-06T04:42:35.277603400Z"
    }
   },
   "id": "ed173f8d1dd924c9"
  },
  {
   "cell_type": "code",
   "execution_count": 9,
   "outputs": [
    {
     "data": {
      "text/plain": "Risk          1977\nNurture        955\nHigh Value     823\nOther          312\nName: Segment, dtype: int64"
     },
     "execution_count": 9,
     "metadata": {},
     "output_type": "execute_result"
    }
   ],
   "source": [
    "xci[\"Segment\"].value_counts()"
   ],
   "metadata": {
    "collapsed": false,
    "ExecuteTime": {
     "end_time": "2024-03-06T04:42:35.530342500Z",
     "start_time": "2024-03-06T04:42:35.341626500Z"
    }
   },
   "id": "fe5dcf04310d9ad7"
  },
  {
   "cell_type": "code",
   "execution_count": 10,
   "outputs": [],
   "source": [
    "def map_rfm_labels(rfm_score):\n",
    "    \"\"\"Maps RFM scores to descriptive labels.\n",
    "\n",
    "    Args:\n",
    "        rfm_score: A string representing the RFM score (e.g., '111').\n",
    "\n",
    "    Returns:\n",
    "        The corresponding descriptive label (e.g., 'Champions').\n",
    "    \"\"\"\n",
    "\n",
    "    label_map = {\n",
    "        '111': 'Champions',\n",
    "        '112': 'Loyalists',\n",
    "        '113': 'High Potential',\n",
    "        '121': 'Big Spender',\n",
    "        '122': 'Regular Spenders',\n",
    "        '123': 'Emerging Loyalists',\n",
    "        '133': 'Needs a Spark',\n",
    "        '213': 'Upscale Focus',\n",
    "        '222': 'Consistent Spender',\n",
    "        '223': 'Potential Upscale',\n",
    "        '232': 'Win-Back Target',\n",
    "        '233': 'Casual Shopper',\n",
    "        '131': 'Wake-Up Call',\n",
    "        '132': 'Slipping Away',\n",
    "        '231': 'Dormant Upscale',\n",
    "        '311': 'One-offs', \n",
    "        '312': 'One-offs', \n",
    "        '313': 'One-offs',\n",
    "        '321': 'Sporadic',\n",
    "        '322': 'Sporadic',\n",
    "        '323': 'Sporadic',\n",
    "        '331': 'Lost Cause',\n",
    "        '332': 'Lost Cause',\n",
    "        '333': 'Lost Cause'\n",
    "    }\n",
    "\n",
    "    return label_map.get(rfm_score, 'Uncategorized')"
   ],
   "metadata": {
    "collapsed": false,
    "ExecuteTime": {
     "end_time": "2024-03-06T04:42:35.730244200Z",
     "start_time": "2024-03-06T04:42:35.420475600Z"
    }
   },
   "id": "f8c3ac76781f17b4"
  },
  {
   "cell_type": "code",
   "execution_count": 11,
   "outputs": [
    {
     "data": {
      "text/plain": "      CustomerID  cluster  Days_Since_Last_Purchase  \\\n0        12346.0        1                       325   \n1        12347.0        2                         2   \n2        12348.0        0                        75   \n3        12349.0        1                        18   \n4        12350.0        1                       310   \n...          ...      ...                       ...   \n4062     18280.0        1                       277   \n4063     18281.0        0                       180   \n4064     18282.0        0                         7   \n4065     18283.0        2                         3   \n4066     18287.0        1                        42   \n\n      Average_Days_Between_Purchases  Average_Transaction_Value R_score  \\\n0                           0.000000                   0.000000       3   \n1                           2.016575                 615.714286       1   \n2                          10.884615                 359.310000       2   \n3                           0.000000                1457.550000       1   \n4                           0.000000                 294.400000       3   \n...                              ...                        ...     ...   \n4062                        0.000000                 180.600000       3   \n4063                        0.000000                  80.820000       3   \n4064                        9.916667                  58.866667       1   \n4065                        0.465181                 127.473750       1   \n4066                        2.304348                 612.426667       2   \n\n     F_score M_score  RFM     Segment          Subsegment  \n0          1       1  311        Risk            One-offs  \n1          2       3  123  High Value  Emerging Loyalists  \n2          3       3  233     Nurture      Casual Shopper  \n3          1       3  113  High Value      High Potential  \n4          1       2  312        Risk            One-offs  \n...      ...     ...  ...         ...                 ...  \n4062       1       2  312        Risk            One-offs  \n4063       1       1  311        Risk            One-offs  \n4064       3       1  131        Risk        Wake-Up Call  \n4065       2       1  121  High Value         Big Spender  \n4066       2       3  223     Nurture   Potential Upscale  \n\n[4067 rows x 11 columns]",
      "text/html": "<div>\n<style scoped>\n    .dataframe tbody tr th:only-of-type {\n        vertical-align: middle;\n    }\n\n    .dataframe tbody tr th {\n        vertical-align: top;\n    }\n\n    .dataframe thead th {\n        text-align: right;\n    }\n</style>\n<table border=\"1\" class=\"dataframe\">\n  <thead>\n    <tr style=\"text-align: right;\">\n      <th></th>\n      <th>CustomerID</th>\n      <th>cluster</th>\n      <th>Days_Since_Last_Purchase</th>\n      <th>Average_Days_Between_Purchases</th>\n      <th>Average_Transaction_Value</th>\n      <th>R_score</th>\n      <th>F_score</th>\n      <th>M_score</th>\n      <th>RFM</th>\n      <th>Segment</th>\n      <th>Subsegment</th>\n    </tr>\n  </thead>\n  <tbody>\n    <tr>\n      <th>0</th>\n      <td>12346.0</td>\n      <td>1</td>\n      <td>325</td>\n      <td>0.000000</td>\n      <td>0.000000</td>\n      <td>3</td>\n      <td>1</td>\n      <td>1</td>\n      <td>311</td>\n      <td>Risk</td>\n      <td>One-offs</td>\n    </tr>\n    <tr>\n      <th>1</th>\n      <td>12347.0</td>\n      <td>2</td>\n      <td>2</td>\n      <td>2.016575</td>\n      <td>615.714286</td>\n      <td>1</td>\n      <td>2</td>\n      <td>3</td>\n      <td>123</td>\n      <td>High Value</td>\n      <td>Emerging Loyalists</td>\n    </tr>\n    <tr>\n      <th>2</th>\n      <td>12348.0</td>\n      <td>0</td>\n      <td>75</td>\n      <td>10.884615</td>\n      <td>359.310000</td>\n      <td>2</td>\n      <td>3</td>\n      <td>3</td>\n      <td>233</td>\n      <td>Nurture</td>\n      <td>Casual Shopper</td>\n    </tr>\n    <tr>\n      <th>3</th>\n      <td>12349.0</td>\n      <td>1</td>\n      <td>18</td>\n      <td>0.000000</td>\n      <td>1457.550000</td>\n      <td>1</td>\n      <td>1</td>\n      <td>3</td>\n      <td>113</td>\n      <td>High Value</td>\n      <td>High Potential</td>\n    </tr>\n    <tr>\n      <th>4</th>\n      <td>12350.0</td>\n      <td>1</td>\n      <td>310</td>\n      <td>0.000000</td>\n      <td>294.400000</td>\n      <td>3</td>\n      <td>1</td>\n      <td>2</td>\n      <td>312</td>\n      <td>Risk</td>\n      <td>One-offs</td>\n    </tr>\n    <tr>\n      <th>...</th>\n      <td>...</td>\n      <td>...</td>\n      <td>...</td>\n      <td>...</td>\n      <td>...</td>\n      <td>...</td>\n      <td>...</td>\n      <td>...</td>\n      <td>...</td>\n      <td>...</td>\n      <td>...</td>\n    </tr>\n    <tr>\n      <th>4062</th>\n      <td>18280.0</td>\n      <td>1</td>\n      <td>277</td>\n      <td>0.000000</td>\n      <td>180.600000</td>\n      <td>3</td>\n      <td>1</td>\n      <td>2</td>\n      <td>312</td>\n      <td>Risk</td>\n      <td>One-offs</td>\n    </tr>\n    <tr>\n      <th>4063</th>\n      <td>18281.0</td>\n      <td>0</td>\n      <td>180</td>\n      <td>0.000000</td>\n      <td>80.820000</td>\n      <td>3</td>\n      <td>1</td>\n      <td>1</td>\n      <td>311</td>\n      <td>Risk</td>\n      <td>One-offs</td>\n    </tr>\n    <tr>\n      <th>4064</th>\n      <td>18282.0</td>\n      <td>0</td>\n      <td>7</td>\n      <td>9.916667</td>\n      <td>58.866667</td>\n      <td>1</td>\n      <td>3</td>\n      <td>1</td>\n      <td>131</td>\n      <td>Risk</td>\n      <td>Wake-Up Call</td>\n    </tr>\n    <tr>\n      <th>4065</th>\n      <td>18283.0</td>\n      <td>2</td>\n      <td>3</td>\n      <td>0.465181</td>\n      <td>127.473750</td>\n      <td>1</td>\n      <td>2</td>\n      <td>1</td>\n      <td>121</td>\n      <td>High Value</td>\n      <td>Big Spender</td>\n    </tr>\n    <tr>\n      <th>4066</th>\n      <td>18287.0</td>\n      <td>1</td>\n      <td>42</td>\n      <td>2.304348</td>\n      <td>612.426667</td>\n      <td>2</td>\n      <td>2</td>\n      <td>3</td>\n      <td>223</td>\n      <td>Nurture</td>\n      <td>Potential Upscale</td>\n    </tr>\n  </tbody>\n</table>\n<p>4067 rows × 11 columns</p>\n</div>"
     },
     "execution_count": 11,
     "metadata": {},
     "output_type": "execute_result"
    }
   ],
   "source": [
    "x1['Subsegment'] = x1['RFM'].apply(map_rfm_labels)\n",
    "x1"
   ],
   "metadata": {
    "collapsed": false,
    "ExecuteTime": {
     "end_time": "2024-03-06T04:42:35.808815400Z",
     "start_time": "2024-03-06T04:42:35.489534800Z"
    }
   },
   "id": "286d70fcc12a2997"
  },
  {
   "cell_type": "code",
   "execution_count": 12,
   "outputs": [
    {
     "data": {
      "text/plain": "Index(['CustomerID', 'cluster', 'Days_Since_Last_Purchase',\n       'Average_Days_Between_Purchases', 'Average_Transaction_Value',\n       'R_score', 'F_score', 'M_score', 'RFM', 'Segment', 'Subsegment'],\n      dtype='object')"
     },
     "execution_count": 12,
     "metadata": {},
     "output_type": "execute_result"
    }
   ],
   "source": [
    "x1.columns"
   ],
   "metadata": {
    "collapsed": false,
    "ExecuteTime": {
     "end_time": "2024-03-06T04:42:35.808815400Z",
     "start_time": "2024-03-06T04:42:35.563031600Z"
    }
   },
   "id": "5da59f3d6bd94170"
  },
  {
   "cell_type": "code",
   "execution_count": 18,
   "outputs": [
    {
     "data": {
      "text/plain": "        Unnamed: 0 InvoiceNo StockCode                          Description  \\\n0                0    536365    85123A   WHITE HANGING HEART T-LIGHT HOLDER   \n1                1    536365     71053                  WHITE METAL LANTERN   \n2                2    536365    84406B       CREAM CUPID HEARTS COAT HANGER   \n3                3    536365    84029G  KNITTED UNION FLAG HOT WATER BOTTLE   \n4                4    536365    84029E       RED WOOLLY HOTTIE WHITE HEART.   \n...            ...       ...       ...                                  ...   \n536424      541904    581587     22613          PACK OF 20 SPACEBOY NAPKINS   \n536425      541905    581587     22899          CHILDREN'S APRON DOLLY GIRL   \n536426      541906    581587     23254         CHILDRENS CUTLERY DOLLY GIRL   \n536427      541907    581587     23255      CHILDRENS CUTLERY CIRCUS PARADE   \n536428      541908    581587     22138         BAKING SET 9 PIECE RETROSPOT   \n\n        Quantity      InvoiceDate  UnitPrice CustomerID         Country  \\\n0              6   12/1/2010 8:26       2.55      17850  United Kingdom   \n1              6   12/1/2010 8:26       3.39      17850  United Kingdom   \n2              8   12/1/2010 8:26       2.75      17850  United Kingdom   \n3              6   12/1/2010 8:26       3.39      17850  United Kingdom   \n4              6   12/1/2010 8:26       3.39      17850  United Kingdom   \n...          ...              ...        ...        ...             ...   \n536424        12  12/9/2011 12:50       0.85      12680          France   \n536425         6  12/9/2011 12:50       2.10      12680          France   \n536426         4  12/9/2011 12:50       4.15      12680          France   \n536427         4  12/9/2011 12:50       4.15      12680          France   \n536428         3  12/9/2011 12:50       4.95      12680          France   \n\n        TotalPrice  OnCredit  GroupPrice  \n0            15.30     False       15.30  \n1            20.34     False       20.34  \n2            22.00     False       22.00  \n3            20.34     False       20.34  \n4            20.34     False       20.34  \n...            ...       ...         ...  \n536424       10.20     False       10.20  \n536425       12.60     False       12.60  \n536426       16.60     False       16.60  \n536427       16.60     False       16.60  \n536428       14.85     False       14.85  \n\n[536429 rows x 12 columns]",
      "text/html": "<div>\n<style scoped>\n    .dataframe tbody tr th:only-of-type {\n        vertical-align: middle;\n    }\n\n    .dataframe tbody tr th {\n        vertical-align: top;\n    }\n\n    .dataframe thead th {\n        text-align: right;\n    }\n</style>\n<table border=\"1\" class=\"dataframe\">\n  <thead>\n    <tr style=\"text-align: right;\">\n      <th></th>\n      <th>Unnamed: 0</th>\n      <th>InvoiceNo</th>\n      <th>StockCode</th>\n      <th>Description</th>\n      <th>Quantity</th>\n      <th>InvoiceDate</th>\n      <th>UnitPrice</th>\n      <th>CustomerID</th>\n      <th>Country</th>\n      <th>TotalPrice</th>\n      <th>OnCredit</th>\n      <th>GroupPrice</th>\n    </tr>\n  </thead>\n  <tbody>\n    <tr>\n      <th>0</th>\n      <td>0</td>\n      <td>536365</td>\n      <td>85123A</td>\n      <td>WHITE HANGING HEART T-LIGHT HOLDER</td>\n      <td>6</td>\n      <td>12/1/2010 8:26</td>\n      <td>2.55</td>\n      <td>17850</td>\n      <td>United Kingdom</td>\n      <td>15.30</td>\n      <td>False</td>\n      <td>15.30</td>\n    </tr>\n    <tr>\n      <th>1</th>\n      <td>1</td>\n      <td>536365</td>\n      <td>71053</td>\n      <td>WHITE METAL LANTERN</td>\n      <td>6</td>\n      <td>12/1/2010 8:26</td>\n      <td>3.39</td>\n      <td>17850</td>\n      <td>United Kingdom</td>\n      <td>20.34</td>\n      <td>False</td>\n      <td>20.34</td>\n    </tr>\n    <tr>\n      <th>2</th>\n      <td>2</td>\n      <td>536365</td>\n      <td>84406B</td>\n      <td>CREAM CUPID HEARTS COAT HANGER</td>\n      <td>8</td>\n      <td>12/1/2010 8:26</td>\n      <td>2.75</td>\n      <td>17850</td>\n      <td>United Kingdom</td>\n      <td>22.00</td>\n      <td>False</td>\n      <td>22.00</td>\n    </tr>\n    <tr>\n      <th>3</th>\n      <td>3</td>\n      <td>536365</td>\n      <td>84029G</td>\n      <td>KNITTED UNION FLAG HOT WATER BOTTLE</td>\n      <td>6</td>\n      <td>12/1/2010 8:26</td>\n      <td>3.39</td>\n      <td>17850</td>\n      <td>United Kingdom</td>\n      <td>20.34</td>\n      <td>False</td>\n      <td>20.34</td>\n    </tr>\n    <tr>\n      <th>4</th>\n      <td>4</td>\n      <td>536365</td>\n      <td>84029E</td>\n      <td>RED WOOLLY HOTTIE WHITE HEART.</td>\n      <td>6</td>\n      <td>12/1/2010 8:26</td>\n      <td>3.39</td>\n      <td>17850</td>\n      <td>United Kingdom</td>\n      <td>20.34</td>\n      <td>False</td>\n      <td>20.34</td>\n    </tr>\n    <tr>\n      <th>...</th>\n      <td>...</td>\n      <td>...</td>\n      <td>...</td>\n      <td>...</td>\n      <td>...</td>\n      <td>...</td>\n      <td>...</td>\n      <td>...</td>\n      <td>...</td>\n      <td>...</td>\n      <td>...</td>\n      <td>...</td>\n    </tr>\n    <tr>\n      <th>536424</th>\n      <td>541904</td>\n      <td>581587</td>\n      <td>22613</td>\n      <td>PACK OF 20 SPACEBOY NAPKINS</td>\n      <td>12</td>\n      <td>12/9/2011 12:50</td>\n      <td>0.85</td>\n      <td>12680</td>\n      <td>France</td>\n      <td>10.20</td>\n      <td>False</td>\n      <td>10.20</td>\n    </tr>\n    <tr>\n      <th>536425</th>\n      <td>541905</td>\n      <td>581587</td>\n      <td>22899</td>\n      <td>CHILDREN'S APRON DOLLY GIRL</td>\n      <td>6</td>\n      <td>12/9/2011 12:50</td>\n      <td>2.10</td>\n      <td>12680</td>\n      <td>France</td>\n      <td>12.60</td>\n      <td>False</td>\n      <td>12.60</td>\n    </tr>\n    <tr>\n      <th>536426</th>\n      <td>541906</td>\n      <td>581587</td>\n      <td>23254</td>\n      <td>CHILDRENS CUTLERY DOLLY GIRL</td>\n      <td>4</td>\n      <td>12/9/2011 12:50</td>\n      <td>4.15</td>\n      <td>12680</td>\n      <td>France</td>\n      <td>16.60</td>\n      <td>False</td>\n      <td>16.60</td>\n    </tr>\n    <tr>\n      <th>536427</th>\n      <td>541907</td>\n      <td>581587</td>\n      <td>23255</td>\n      <td>CHILDRENS CUTLERY CIRCUS PARADE</td>\n      <td>4</td>\n      <td>12/9/2011 12:50</td>\n      <td>4.15</td>\n      <td>12680</td>\n      <td>France</td>\n      <td>16.60</td>\n      <td>False</td>\n      <td>16.60</td>\n    </tr>\n    <tr>\n      <th>536428</th>\n      <td>541908</td>\n      <td>581587</td>\n      <td>22138</td>\n      <td>BAKING SET 9 PIECE RETROSPOT</td>\n      <td>3</td>\n      <td>12/9/2011 12:50</td>\n      <td>4.95</td>\n      <td>12680</td>\n      <td>France</td>\n      <td>14.85</td>\n      <td>False</td>\n      <td>14.85</td>\n    </tr>\n  </tbody>\n</table>\n<p>536429 rows × 12 columns</p>\n</div>"
     },
     "execution_count": 18,
     "metadata": {},
     "output_type": "execute_result"
    }
   ],
   "source": [
    "cdata = pd.read_csv(\"express.csv\")\n",
    "cdata\n",
    "\n"
   ],
   "metadata": {
    "collapsed": false,
    "ExecuteTime": {
     "end_time": "2024-03-06T04:49:27.821227700Z",
     "start_time": "2024-03-06T04:49:21.362639Z"
    }
   },
   "id": "6f1d7587fa6e4410"
  },
  {
   "cell_type": "code",
   "execution_count": 19,
   "outputs": [
    {
     "data": {
      "text/plain": "       CustomerID InvoiceNo StockCode\n0           17850    536365    85123A\n1           17850    536365     71053\n2           17850    536365    84406B\n3           17850    536365    84029G\n4           17850    536365    84029E\n...           ...       ...       ...\n536424      12680    581587     22613\n536425      12680    581587     22899\n536426      12680    581587     23254\n536427      12680    581587     23255\n536428      12680    581587     22138\n\n[536429 rows x 3 columns]",
      "text/html": "<div>\n<style scoped>\n    .dataframe tbody tr th:only-of-type {\n        vertical-align: middle;\n    }\n\n    .dataframe tbody tr th {\n        vertical-align: top;\n    }\n\n    .dataframe thead th {\n        text-align: right;\n    }\n</style>\n<table border=\"1\" class=\"dataframe\">\n  <thead>\n    <tr style=\"text-align: right;\">\n      <th></th>\n      <th>CustomerID</th>\n      <th>InvoiceNo</th>\n      <th>StockCode</th>\n    </tr>\n  </thead>\n  <tbody>\n    <tr>\n      <th>0</th>\n      <td>17850</td>\n      <td>536365</td>\n      <td>85123A</td>\n    </tr>\n    <tr>\n      <th>1</th>\n      <td>17850</td>\n      <td>536365</td>\n      <td>71053</td>\n    </tr>\n    <tr>\n      <th>2</th>\n      <td>17850</td>\n      <td>536365</td>\n      <td>84406B</td>\n    </tr>\n    <tr>\n      <th>3</th>\n      <td>17850</td>\n      <td>536365</td>\n      <td>84029G</td>\n    </tr>\n    <tr>\n      <th>4</th>\n      <td>17850</td>\n      <td>536365</td>\n      <td>84029E</td>\n    </tr>\n    <tr>\n      <th>...</th>\n      <td>...</td>\n      <td>...</td>\n      <td>...</td>\n    </tr>\n    <tr>\n      <th>536424</th>\n      <td>12680</td>\n      <td>581587</td>\n      <td>22613</td>\n    </tr>\n    <tr>\n      <th>536425</th>\n      <td>12680</td>\n      <td>581587</td>\n      <td>22899</td>\n    </tr>\n    <tr>\n      <th>536426</th>\n      <td>12680</td>\n      <td>581587</td>\n      <td>23254</td>\n    </tr>\n    <tr>\n      <th>536427</th>\n      <td>12680</td>\n      <td>581587</td>\n      <td>23255</td>\n    </tr>\n    <tr>\n      <th>536428</th>\n      <td>12680</td>\n      <td>581587</td>\n      <td>22138</td>\n    </tr>\n  </tbody>\n</table>\n<p>536429 rows × 3 columns</p>\n</div>"
     },
     "execution_count": 19,
     "metadata": {},
     "output_type": "execute_result"
    }
   ],
   "source": [
    "cdata =cdata[[\"CustomerID\",\"InvoiceNo\",\"StockCode\"]]\n",
    "cdata\n",
    "\n",
    " "
   ],
   "metadata": {
    "collapsed": false,
    "ExecuteTime": {
     "end_time": "2024-03-06T04:49:36.071718800Z",
     "start_time": "2024-03-06T04:49:35.977546200Z"
    }
   },
   "id": "cc678f58d728827d"
  },
  {
   "cell_type": "code",
   "execution_count": 20,
   "outputs": [
    {
     "data": {
      "text/plain": "                                                              StockCode\nInvoiceNo CustomerID                                                   \n536365    17850       [84406B, 84029E, 85123A, 21730, 22752, 84029G,...\n536366    17850                                          [22633, 22632]\n536367    13047       [22745, 84969, 22749, 21755, 22748, 22310, 226...\n536368    13047                            [22913, 22912, 22914, 22960]\n536369    13047                                                 [21756]\n...                                                                 ...\nC581470   17924                                                 [23084]\nC581484   16446                                                 [23843]\nC581490   14397                                          [23144, 22178]\nC581568   15311                                                 [21258]\nC581569   17315                                          [20979, 84978]\n\n[23195 rows x 1 columns]",
      "text/html": "<div>\n<style scoped>\n    .dataframe tbody tr th:only-of-type {\n        vertical-align: middle;\n    }\n\n    .dataframe tbody tr th {\n        vertical-align: top;\n    }\n\n    .dataframe thead th {\n        text-align: right;\n    }\n</style>\n<table border=\"1\" class=\"dataframe\">\n  <thead>\n    <tr style=\"text-align: right;\">\n      <th></th>\n      <th></th>\n      <th>StockCode</th>\n    </tr>\n    <tr>\n      <th>InvoiceNo</th>\n      <th>CustomerID</th>\n      <th></th>\n    </tr>\n  </thead>\n  <tbody>\n    <tr>\n      <th>536365</th>\n      <th>17850</th>\n      <td>[84406B, 84029E, 85123A, 21730, 22752, 84029G,...</td>\n    </tr>\n    <tr>\n      <th>536366</th>\n      <th>17850</th>\n      <td>[22633, 22632]</td>\n    </tr>\n    <tr>\n      <th>536367</th>\n      <th>13047</th>\n      <td>[22745, 84969, 22749, 21755, 22748, 22310, 226...</td>\n    </tr>\n    <tr>\n      <th>536368</th>\n      <th>13047</th>\n      <td>[22913, 22912, 22914, 22960]</td>\n    </tr>\n    <tr>\n      <th>536369</th>\n      <th>13047</th>\n      <td>[21756]</td>\n    </tr>\n    <tr>\n      <th>...</th>\n      <th>...</th>\n      <td>...</td>\n    </tr>\n    <tr>\n      <th>C581470</th>\n      <th>17924</th>\n      <td>[23084]</td>\n    </tr>\n    <tr>\n      <th>C581484</th>\n      <th>16446</th>\n      <td>[23843]</td>\n    </tr>\n    <tr>\n      <th>C581490</th>\n      <th>14397</th>\n      <td>[23144, 22178]</td>\n    </tr>\n    <tr>\n      <th>C581568</th>\n      <th>15311</th>\n      <td>[21258]</td>\n    </tr>\n    <tr>\n      <th>C581569</th>\n      <th>17315</th>\n      <td>[20979, 84978]</td>\n    </tr>\n  </tbody>\n</table>\n<p>23195 rows × 1 columns</p>\n</div>"
     },
     "execution_count": 20,
     "metadata": {},
     "output_type": "execute_result"
    }
   ],
   "source": [
    "basket = cdata.groupby([\"InvoiceNo\",\"CustomerID\"]).agg({\n",
    "    \"StockCode\": lambda s : list(set(s))\n",
    "})\n",
    "\n",
    "basket"
   ],
   "metadata": {
    "collapsed": false,
    "ExecuteTime": {
     "end_time": "2024-03-06T04:49:48.069008300Z",
     "start_time": "2024-03-06T04:49:47.170865900Z"
    }
   },
   "id": "6fbd9c2da7b8e01d"
  },
  {
   "cell_type": "code",
   "execution_count": 17,
   "outputs": [
    {
     "data": {
      "text/plain": "       CustomerID InvoiceNo StockCode\n0           17850    536365    85123A\n9           13047    536367     84879\n26          12583    536370     22728\n46          13748    536371     22086\n65          15100    536374     21258\n...           ...       ...       ...\n534457      13436    581233     22178\n534742      15520    581241     22922\n535551      13298    581385    84029G\n536296      14569    581416     22466\n539251      12713    581578      POST\n\n[4372 rows x 3 columns]",
      "text/html": "<div>\n<style scoped>\n    .dataframe tbody tr th:only-of-type {\n        vertical-align: middle;\n    }\n\n    .dataframe tbody tr th {\n        vertical-align: top;\n    }\n\n    .dataframe thead th {\n        text-align: right;\n    }\n</style>\n<table border=\"1\" class=\"dataframe\">\n  <thead>\n    <tr style=\"text-align: right;\">\n      <th></th>\n      <th>CustomerID</th>\n      <th>InvoiceNo</th>\n      <th>StockCode</th>\n    </tr>\n  </thead>\n  <tbody>\n    <tr>\n      <th>0</th>\n      <td>17850</td>\n      <td>536365</td>\n      <td>85123A</td>\n    </tr>\n    <tr>\n      <th>9</th>\n      <td>13047</td>\n      <td>536367</td>\n      <td>84879</td>\n    </tr>\n    <tr>\n      <th>26</th>\n      <td>12583</td>\n      <td>536370</td>\n      <td>22728</td>\n    </tr>\n    <tr>\n      <th>46</th>\n      <td>13748</td>\n      <td>536371</td>\n      <td>22086</td>\n    </tr>\n    <tr>\n      <th>65</th>\n      <td>15100</td>\n      <td>536374</td>\n      <td>21258</td>\n    </tr>\n    <tr>\n      <th>...</th>\n      <td>...</td>\n      <td>...</td>\n      <td>...</td>\n    </tr>\n    <tr>\n      <th>534457</th>\n      <td>13436</td>\n      <td>581233</td>\n      <td>22178</td>\n    </tr>\n    <tr>\n      <th>534742</th>\n      <td>15520</td>\n      <td>581241</td>\n      <td>22922</td>\n    </tr>\n    <tr>\n      <th>535551</th>\n      <td>13298</td>\n      <td>581385</td>\n      <td>84029G</td>\n    </tr>\n    <tr>\n      <th>536296</th>\n      <td>14569</td>\n      <td>581416</td>\n      <td>22466</td>\n    </tr>\n    <tr>\n      <th>539251</th>\n      <td>12713</td>\n      <td>581578</td>\n      <td>POST</td>\n    </tr>\n  </tbody>\n</table>\n<p>4372 rows × 3 columns</p>\n</div>"
     },
     "execution_count": 17,
     "metadata": {},
     "output_type": "execute_result"
    }
   ],
   "source": [
    "unique = cdata.drop_duplicates(subset=\"CustomerID\")\n",
    "unique"
   ],
   "metadata": {
    "collapsed": false,
    "ExecuteTime": {
     "end_time": "2024-03-06T04:42:44.784271300Z",
     "start_time": "2024-03-06T04:42:44.579598100Z"
    }
   },
   "id": "e5f570b77189473b"
  },
  {
   "cell_type": "code",
   "execution_count": 23,
   "outputs": [
    {
     "data": {
      "text/plain": "CustomerID    object\nSegment       object\ndtype: object"
     },
     "execution_count": 23,
     "metadata": {},
     "output_type": "execute_result"
    }
   ],
   "source": [
    "xci[\"CustomerID\"] = xci[\"CustomerID\"].astype(object)\n",
    "xci.dtypes"
   ],
   "metadata": {
    "collapsed": false,
    "ExecuteTime": {
     "end_time": "2024-03-06T04:56:49.035805400Z",
     "start_time": "2024-03-06T04:56:49.004248400Z"
    }
   },
   "id": "e9b392f05eec8c50"
  },
  {
   "cell_type": "code",
   "execution_count": 28,
   "outputs": [
    {
     "data": {
      "text/plain": "       CustomerID InvoiceNo StockCode Segment\n0           17850    536365    85123A     NaN\n1           17850    536365     71053     NaN\n2           17850    536365    84406B     NaN\n3           17850    536365    84029G     NaN\n4           17850    536365    84029E     NaN\n...           ...       ...       ...     ...\n536424      12680    581587     22613     NaN\n536425      12680    581587     22899     NaN\n536426      12680    581587     23254     NaN\n536427      12680    581587     23255     NaN\n536428      12680    581587     22138     NaN\n\n[536429 rows x 4 columns]",
      "text/html": "<div>\n<style scoped>\n    .dataframe tbody tr th:only-of-type {\n        vertical-align: middle;\n    }\n\n    .dataframe tbody tr th {\n        vertical-align: top;\n    }\n\n    .dataframe thead th {\n        text-align: right;\n    }\n</style>\n<table border=\"1\" class=\"dataframe\">\n  <thead>\n    <tr style=\"text-align: right;\">\n      <th></th>\n      <th>CustomerID</th>\n      <th>InvoiceNo</th>\n      <th>StockCode</th>\n      <th>Segment</th>\n    </tr>\n  </thead>\n  <tbody>\n    <tr>\n      <th>0</th>\n      <td>17850</td>\n      <td>536365</td>\n      <td>85123A</td>\n      <td>NaN</td>\n    </tr>\n    <tr>\n      <th>1</th>\n      <td>17850</td>\n      <td>536365</td>\n      <td>71053</td>\n      <td>NaN</td>\n    </tr>\n    <tr>\n      <th>2</th>\n      <td>17850</td>\n      <td>536365</td>\n      <td>84406B</td>\n      <td>NaN</td>\n    </tr>\n    <tr>\n      <th>3</th>\n      <td>17850</td>\n      <td>536365</td>\n      <td>84029G</td>\n      <td>NaN</td>\n    </tr>\n    <tr>\n      <th>4</th>\n      <td>17850</td>\n      <td>536365</td>\n      <td>84029E</td>\n      <td>NaN</td>\n    </tr>\n    <tr>\n      <th>...</th>\n      <td>...</td>\n      <td>...</td>\n      <td>...</td>\n      <td>...</td>\n    </tr>\n    <tr>\n      <th>536424</th>\n      <td>12680</td>\n      <td>581587</td>\n      <td>22613</td>\n      <td>NaN</td>\n    </tr>\n    <tr>\n      <th>536425</th>\n      <td>12680</td>\n      <td>581587</td>\n      <td>22899</td>\n      <td>NaN</td>\n    </tr>\n    <tr>\n      <th>536426</th>\n      <td>12680</td>\n      <td>581587</td>\n      <td>23254</td>\n      <td>NaN</td>\n    </tr>\n    <tr>\n      <th>536427</th>\n      <td>12680</td>\n      <td>581587</td>\n      <td>23255</td>\n      <td>NaN</td>\n    </tr>\n    <tr>\n      <th>536428</th>\n      <td>12680</td>\n      <td>581587</td>\n      <td>22138</td>\n      <td>NaN</td>\n    </tr>\n  </tbody>\n</table>\n<p>536429 rows × 4 columns</p>\n</div>"
     },
     "execution_count": 28,
     "metadata": {},
     "output_type": "execute_result"
    }
   ],
   "source": [
    "trial = pd.merge(cdata,xci,on=\"CustomerID\",how=\"left\")\n",
    "trial"
   ],
   "metadata": {
    "collapsed": false,
    "ExecuteTime": {
     "end_time": "2024-03-06T05:07:05.167281600Z",
     "start_time": "2024-03-06T05:07:04.793102200Z"
    }
   },
   "id": "6820bb889f4dd1f8"
  },
  {
   "cell_type": "code",
   "execution_count": 30,
   "outputs": [
    {
     "data": {
      "text/plain": "       CustomerID InvoiceNo StockCode Segment\n318123      15910    565209     20754     NaN\n347579    Unknown    567667    46776C     NaN\n453418      12518    575787     22636     NaN\n332377      15358    566314     23374     NaN\n490583      17530    578324     23218     NaN",
      "text/html": "<div>\n<style scoped>\n    .dataframe tbody tr th:only-of-type {\n        vertical-align: middle;\n    }\n\n    .dataframe tbody tr th {\n        vertical-align: top;\n    }\n\n    .dataframe thead th {\n        text-align: right;\n    }\n</style>\n<table border=\"1\" class=\"dataframe\">\n  <thead>\n    <tr style=\"text-align: right;\">\n      <th></th>\n      <th>CustomerID</th>\n      <th>InvoiceNo</th>\n      <th>StockCode</th>\n      <th>Segment</th>\n    </tr>\n  </thead>\n  <tbody>\n    <tr>\n      <th>318123</th>\n      <td>15910</td>\n      <td>565209</td>\n      <td>20754</td>\n      <td>NaN</td>\n    </tr>\n    <tr>\n      <th>347579</th>\n      <td>Unknown</td>\n      <td>567667</td>\n      <td>46776C</td>\n      <td>NaN</td>\n    </tr>\n    <tr>\n      <th>453418</th>\n      <td>12518</td>\n      <td>575787</td>\n      <td>22636</td>\n      <td>NaN</td>\n    </tr>\n    <tr>\n      <th>332377</th>\n      <td>15358</td>\n      <td>566314</td>\n      <td>23374</td>\n      <td>NaN</td>\n    </tr>\n    <tr>\n      <th>490583</th>\n      <td>17530</td>\n      <td>578324</td>\n      <td>23218</td>\n      <td>NaN</td>\n    </tr>\n  </tbody>\n</table>\n</div>"
     },
     "execution_count": 30,
     "metadata": {},
     "output_type": "execute_result"
    }
   ],
   "source": [
    "trial.sample(5)"
   ],
   "metadata": {
    "collapsed": false,
    "ExecuteTime": {
     "end_time": "2024-03-06T05:07:42.025014200Z",
     "start_time": "2024-03-06T05:07:41.977737700Z"
    }
   },
   "id": "b3b54376b274a91d"
  },
  {
   "cell_type": "code",
   "execution_count": 32,
   "outputs": [
    {
     "data": {
      "text/plain": "       CustomerID InvoiceNo StockCode\n0           17850    536365    85123A\n1           17850    536365     71053\n2           17850    536365    84406B\n3           17850    536365    84029G\n4           17850    536365    84029E\n...           ...       ...       ...\n536424      12680    581587     22613\n536425      12680    581587     22899\n536426      12680    581587     23254\n536427      12680    581587     23255\n536428      12680    581587     22138\n\n[404876 rows x 3 columns]",
      "text/html": "<div>\n<style scoped>\n    .dataframe tbody tr th:only-of-type {\n        vertical-align: middle;\n    }\n\n    .dataframe tbody tr th {\n        vertical-align: top;\n    }\n\n    .dataframe thead th {\n        text-align: right;\n    }\n</style>\n<table border=\"1\" class=\"dataframe\">\n  <thead>\n    <tr style=\"text-align: right;\">\n      <th></th>\n      <th>CustomerID</th>\n      <th>InvoiceNo</th>\n      <th>StockCode</th>\n    </tr>\n  </thead>\n  <tbody>\n    <tr>\n      <th>0</th>\n      <td>17850</td>\n      <td>536365</td>\n      <td>85123A</td>\n    </tr>\n    <tr>\n      <th>1</th>\n      <td>17850</td>\n      <td>536365</td>\n      <td>71053</td>\n    </tr>\n    <tr>\n      <th>2</th>\n      <td>17850</td>\n      <td>536365</td>\n      <td>84406B</td>\n    </tr>\n    <tr>\n      <th>3</th>\n      <td>17850</td>\n      <td>536365</td>\n      <td>84029G</td>\n    </tr>\n    <tr>\n      <th>4</th>\n      <td>17850</td>\n      <td>536365</td>\n      <td>84029E</td>\n    </tr>\n    <tr>\n      <th>...</th>\n      <td>...</td>\n      <td>...</td>\n      <td>...</td>\n    </tr>\n    <tr>\n      <th>536424</th>\n      <td>12680</td>\n      <td>581587</td>\n      <td>22613</td>\n    </tr>\n    <tr>\n      <th>536425</th>\n      <td>12680</td>\n      <td>581587</td>\n      <td>22899</td>\n    </tr>\n    <tr>\n      <th>536426</th>\n      <td>12680</td>\n      <td>581587</td>\n      <td>23254</td>\n    </tr>\n    <tr>\n      <th>536427</th>\n      <td>12680</td>\n      <td>581587</td>\n      <td>23255</td>\n    </tr>\n    <tr>\n      <th>536428</th>\n      <td>12680</td>\n      <td>581587</td>\n      <td>22138</td>\n    </tr>\n  </tbody>\n</table>\n<p>404876 rows × 3 columns</p>\n</div>"
     },
     "execution_count": 32,
     "metadata": {},
     "output_type": "execute_result"
    }
   ],
   "source": [
    "n1 = cdata.loc[cdata[\"CustomerID\"]!=\"Unknown\"]\n",
    "n1"
   ],
   "metadata": {
    "collapsed": false,
    "ExecuteTime": {
     "end_time": "2024-03-06T05:12:07.205103500Z",
     "start_time": "2024-03-06T05:12:07.035968700Z"
    }
   },
   "id": "fdfbce3df3537475"
  },
  {
   "cell_type": "code",
   "execution_count": 33,
   "outputs": [],
   "source": [
    "\n",
    "trial = pd.merge(n1, xci, on=\"CustomerID\", how=\"left\")"
   ],
   "metadata": {
    "collapsed": false,
    "ExecuteTime": {
     "end_time": "2024-03-06T05:13:00.237767200Z",
     "start_time": "2024-03-06T05:12:59.917877900Z"
    }
   },
   "id": "d87d776a816a9390"
  },
  {
   "cell_type": "code",
   "execution_count": 34,
   "outputs": [
    {
     "data": {
      "text/plain": "       CustomerID InvoiceNo StockCode Segment\n0           17850    536365    85123A     NaN\n1           17850    536365     71053     NaN\n2           17850    536365    84406B     NaN\n3           17850    536365    84029G     NaN\n4           17850    536365    84029E     NaN\n...           ...       ...       ...     ...\n404871      12680    581587     22613     NaN\n404872      12680    581587     22899     NaN\n404873      12680    581587     23254     NaN\n404874      12680    581587     23255     NaN\n404875      12680    581587     22138     NaN\n\n[404876 rows x 4 columns]",
      "text/html": "<div>\n<style scoped>\n    .dataframe tbody tr th:only-of-type {\n        vertical-align: middle;\n    }\n\n    .dataframe tbody tr th {\n        vertical-align: top;\n    }\n\n    .dataframe thead th {\n        text-align: right;\n    }\n</style>\n<table border=\"1\" class=\"dataframe\">\n  <thead>\n    <tr style=\"text-align: right;\">\n      <th></th>\n      <th>CustomerID</th>\n      <th>InvoiceNo</th>\n      <th>StockCode</th>\n      <th>Segment</th>\n    </tr>\n  </thead>\n  <tbody>\n    <tr>\n      <th>0</th>\n      <td>17850</td>\n      <td>536365</td>\n      <td>85123A</td>\n      <td>NaN</td>\n    </tr>\n    <tr>\n      <th>1</th>\n      <td>17850</td>\n      <td>536365</td>\n      <td>71053</td>\n      <td>NaN</td>\n    </tr>\n    <tr>\n      <th>2</th>\n      <td>17850</td>\n      <td>536365</td>\n      <td>84406B</td>\n      <td>NaN</td>\n    </tr>\n    <tr>\n      <th>3</th>\n      <td>17850</td>\n      <td>536365</td>\n      <td>84029G</td>\n      <td>NaN</td>\n    </tr>\n    <tr>\n      <th>4</th>\n      <td>17850</td>\n      <td>536365</td>\n      <td>84029E</td>\n      <td>NaN</td>\n    </tr>\n    <tr>\n      <th>...</th>\n      <td>...</td>\n      <td>...</td>\n      <td>...</td>\n      <td>...</td>\n    </tr>\n    <tr>\n      <th>404871</th>\n      <td>12680</td>\n      <td>581587</td>\n      <td>22613</td>\n      <td>NaN</td>\n    </tr>\n    <tr>\n      <th>404872</th>\n      <td>12680</td>\n      <td>581587</td>\n      <td>22899</td>\n      <td>NaN</td>\n    </tr>\n    <tr>\n      <th>404873</th>\n      <td>12680</td>\n      <td>581587</td>\n      <td>23254</td>\n      <td>NaN</td>\n    </tr>\n    <tr>\n      <th>404874</th>\n      <td>12680</td>\n      <td>581587</td>\n      <td>23255</td>\n      <td>NaN</td>\n    </tr>\n    <tr>\n      <th>404875</th>\n      <td>12680</td>\n      <td>581587</td>\n      <td>22138</td>\n      <td>NaN</td>\n    </tr>\n  </tbody>\n</table>\n<p>404876 rows × 4 columns</p>\n</div>"
     },
     "execution_count": 34,
     "metadata": {},
     "output_type": "execute_result"
    }
   ],
   "source": [
    "trial"
   ],
   "metadata": {
    "collapsed": false,
    "ExecuteTime": {
     "end_time": "2024-03-06T05:13:10.334827800Z",
     "start_time": "2024-03-06T05:13:10.303360Z"
    }
   },
   "id": "c3cccf1d49da7224"
  },
  {
   "cell_type": "code",
   "execution_count": 44,
   "outputs": [],
   "source": [
    "n1['CustomerID'] = n1['CustomerID'].astype(str)\n",
    "xci['CustomerID'] = xci['CustomerID'].astype(str)"
   ],
   "metadata": {
    "collapsed": false,
    "ExecuteTime": {
     "end_time": "2024-03-06T06:14:06.852015400Z",
     "start_time": "2024-03-06T06:14:06.789013600Z"
    }
   },
   "id": "a6bce1564858221d"
  },
  {
   "cell_type": "code",
   "execution_count": 45,
   "outputs": [
    {
     "data": {
      "text/plain": "       CustomerID InvoiceNo StockCode Segment\n0           17850    536365    85123A     NaN\n1           17850    536365     71053     NaN\n2           17850    536365    84406B     NaN\n3           17850    536365    84029G     NaN\n4           17850    536365    84029E     NaN\n...           ...       ...       ...     ...\n404871      12680    581587     22613    Risk\n404872      12680    581587     22899    Risk\n404873      12680    581587     23254    Risk\n404874      12680    581587     23255    Risk\n404875      12680    581587     22138    Risk\n\n[404876 rows x 4 columns]",
      "text/html": "<div>\n<style scoped>\n    .dataframe tbody tr th:only-of-type {\n        vertical-align: middle;\n    }\n\n    .dataframe tbody tr th {\n        vertical-align: top;\n    }\n\n    .dataframe thead th {\n        text-align: right;\n    }\n</style>\n<table border=\"1\" class=\"dataframe\">\n  <thead>\n    <tr style=\"text-align: right;\">\n      <th></th>\n      <th>CustomerID</th>\n      <th>InvoiceNo</th>\n      <th>StockCode</th>\n      <th>Segment</th>\n    </tr>\n  </thead>\n  <tbody>\n    <tr>\n      <th>0</th>\n      <td>17850</td>\n      <td>536365</td>\n      <td>85123A</td>\n      <td>NaN</td>\n    </tr>\n    <tr>\n      <th>1</th>\n      <td>17850</td>\n      <td>536365</td>\n      <td>71053</td>\n      <td>NaN</td>\n    </tr>\n    <tr>\n      <th>2</th>\n      <td>17850</td>\n      <td>536365</td>\n      <td>84406B</td>\n      <td>NaN</td>\n    </tr>\n    <tr>\n      <th>3</th>\n      <td>17850</td>\n      <td>536365</td>\n      <td>84029G</td>\n      <td>NaN</td>\n    </tr>\n    <tr>\n      <th>4</th>\n      <td>17850</td>\n      <td>536365</td>\n      <td>84029E</td>\n      <td>NaN</td>\n    </tr>\n    <tr>\n      <th>...</th>\n      <td>...</td>\n      <td>...</td>\n      <td>...</td>\n      <td>...</td>\n    </tr>\n    <tr>\n      <th>404871</th>\n      <td>12680</td>\n      <td>581587</td>\n      <td>22613</td>\n      <td>Risk</td>\n    </tr>\n    <tr>\n      <th>404872</th>\n      <td>12680</td>\n      <td>581587</td>\n      <td>22899</td>\n      <td>Risk</td>\n    </tr>\n    <tr>\n      <th>404873</th>\n      <td>12680</td>\n      <td>581587</td>\n      <td>23254</td>\n      <td>Risk</td>\n    </tr>\n    <tr>\n      <th>404874</th>\n      <td>12680</td>\n      <td>581587</td>\n      <td>23255</td>\n      <td>Risk</td>\n    </tr>\n    <tr>\n      <th>404875</th>\n      <td>12680</td>\n      <td>581587</td>\n      <td>22138</td>\n      <td>Risk</td>\n    </tr>\n  </tbody>\n</table>\n<p>404876 rows × 4 columns</p>\n</div>"
     },
     "execution_count": 45,
     "metadata": {},
     "output_type": "execute_result"
    }
   ],
   "source": [
    "merged_df = pd.merge(n1, xci, on='CustomerID', how='left')\n",
    "merged_df"
   ],
   "metadata": {
    "collapsed": false,
    "ExecuteTime": {
     "end_time": "2024-03-06T06:14:25.604520Z",
     "start_time": "2024-03-06T06:14:25.113130400Z"
    }
   },
   "id": "fa173f1fab01822"
  },
  {
   "cell_type": "code",
   "execution_count": 47,
   "outputs": [
    {
     "data": {
      "text/plain": "       CustomerID InvoiceNo StockCode  Segment\n9           13047    536367     84879  Nurture\n10          13047    536367     22745  Nurture\n11          13047    536367     22748  Nurture\n12          13047    536367     22749  Nurture\n13          13047    536367     22310  Nurture\n...           ...       ...       ...      ...\n404871      12680    581587     22613     Risk\n404872      12680    581587     22899     Risk\n404873      12680    581587     23254     Risk\n404874      12680    581587     23255     Risk\n404875      12680    581587     22138     Risk\n\n[300757 rows x 4 columns]",
      "text/html": "<div>\n<style scoped>\n    .dataframe tbody tr th:only-of-type {\n        vertical-align: middle;\n    }\n\n    .dataframe tbody tr th {\n        vertical-align: top;\n    }\n\n    .dataframe thead th {\n        text-align: right;\n    }\n</style>\n<table border=\"1\" class=\"dataframe\">\n  <thead>\n    <tr style=\"text-align: right;\">\n      <th></th>\n      <th>CustomerID</th>\n      <th>InvoiceNo</th>\n      <th>StockCode</th>\n      <th>Segment</th>\n    </tr>\n  </thead>\n  <tbody>\n    <tr>\n      <th>9</th>\n      <td>13047</td>\n      <td>536367</td>\n      <td>84879</td>\n      <td>Nurture</td>\n    </tr>\n    <tr>\n      <th>10</th>\n      <td>13047</td>\n      <td>536367</td>\n      <td>22745</td>\n      <td>Nurture</td>\n    </tr>\n    <tr>\n      <th>11</th>\n      <td>13047</td>\n      <td>536367</td>\n      <td>22748</td>\n      <td>Nurture</td>\n    </tr>\n    <tr>\n      <th>12</th>\n      <td>13047</td>\n      <td>536367</td>\n      <td>22749</td>\n      <td>Nurture</td>\n    </tr>\n    <tr>\n      <th>13</th>\n      <td>13047</td>\n      <td>536367</td>\n      <td>22310</td>\n      <td>Nurture</td>\n    </tr>\n    <tr>\n      <th>...</th>\n      <td>...</td>\n      <td>...</td>\n      <td>...</td>\n      <td>...</td>\n    </tr>\n    <tr>\n      <th>404871</th>\n      <td>12680</td>\n      <td>581587</td>\n      <td>22613</td>\n      <td>Risk</td>\n    </tr>\n    <tr>\n      <th>404872</th>\n      <td>12680</td>\n      <td>581587</td>\n      <td>22899</td>\n      <td>Risk</td>\n    </tr>\n    <tr>\n      <th>404873</th>\n      <td>12680</td>\n      <td>581587</td>\n      <td>23254</td>\n      <td>Risk</td>\n    </tr>\n    <tr>\n      <th>404874</th>\n      <td>12680</td>\n      <td>581587</td>\n      <td>23255</td>\n      <td>Risk</td>\n    </tr>\n    <tr>\n      <th>404875</th>\n      <td>12680</td>\n      <td>581587</td>\n      <td>22138</td>\n      <td>Risk</td>\n    </tr>\n  </tbody>\n</table>\n<p>300757 rows × 4 columns</p>\n</div>"
     },
     "execution_count": 47,
     "metadata": {},
     "output_type": "execute_result"
    }
   ],
   "source": [
    "merged_df.dropna(inplace=True)\n",
    "merged_df"
   ],
   "metadata": {
    "collapsed": false,
    "ExecuteTime": {
     "end_time": "2024-03-06T06:16:28.121107100Z",
     "start_time": "2024-03-06T06:16:25.956347900Z"
    }
   },
   "id": "c76316cafb4f8e57"
  },
  {
   "cell_type": "code",
   "execution_count": 48,
   "outputs": [
    {
     "data": {
      "text/plain": "High Value    128999\nNurture        81948\nRisk           77618\nOther          12192\nName: Segment, dtype: int64"
     },
     "execution_count": 48,
     "metadata": {},
     "output_type": "execute_result"
    }
   ],
   "source": [
    "merged_df.Segment.value_counts()"
   ],
   "metadata": {
    "collapsed": false,
    "ExecuteTime": {
     "end_time": "2024-03-06T06:17:03.778050400Z",
     "start_time": "2024-03-06T06:17:03.731437600Z"
    }
   },
   "id": "855d453ac53ccd04"
  },
  {
   "cell_type": "code",
   "execution_count": 53,
   "outputs": [
    {
     "data": {
      "text/plain": "       CustomerID InvoiceNo StockCode     Segment\n26          12583    536370     22728  High Value\n27          12583    536370     22727  High Value\n28          12583    536370     22726  High Value\n29          12583    536370     21724  High Value\n30          12583    536370     21883  High Value\n...           ...       ...       ...         ...\n404852      15804    581585     21684  High Value\n404853      15804    581585     22398  High Value\n404854      15804    581585     23328  High Value\n404855      15804    581585     23145  High Value\n404856      15804    581585     22466  High Value\n\n[128999 rows x 4 columns]",
      "text/html": "<div>\n<style scoped>\n    .dataframe tbody tr th:only-of-type {\n        vertical-align: middle;\n    }\n\n    .dataframe tbody tr th {\n        vertical-align: top;\n    }\n\n    .dataframe thead th {\n        text-align: right;\n    }\n</style>\n<table border=\"1\" class=\"dataframe\">\n  <thead>\n    <tr style=\"text-align: right;\">\n      <th></th>\n      <th>CustomerID</th>\n      <th>InvoiceNo</th>\n      <th>StockCode</th>\n      <th>Segment</th>\n    </tr>\n  </thead>\n  <tbody>\n    <tr>\n      <th>26</th>\n      <td>12583</td>\n      <td>536370</td>\n      <td>22728</td>\n      <td>High Value</td>\n    </tr>\n    <tr>\n      <th>27</th>\n      <td>12583</td>\n      <td>536370</td>\n      <td>22727</td>\n      <td>High Value</td>\n    </tr>\n    <tr>\n      <th>28</th>\n      <td>12583</td>\n      <td>536370</td>\n      <td>22726</td>\n      <td>High Value</td>\n    </tr>\n    <tr>\n      <th>29</th>\n      <td>12583</td>\n      <td>536370</td>\n      <td>21724</td>\n      <td>High Value</td>\n    </tr>\n    <tr>\n      <th>30</th>\n      <td>12583</td>\n      <td>536370</td>\n      <td>21883</td>\n      <td>High Value</td>\n    </tr>\n    <tr>\n      <th>...</th>\n      <td>...</td>\n      <td>...</td>\n      <td>...</td>\n      <td>...</td>\n    </tr>\n    <tr>\n      <th>404852</th>\n      <td>15804</td>\n      <td>581585</td>\n      <td>21684</td>\n      <td>High Value</td>\n    </tr>\n    <tr>\n      <th>404853</th>\n      <td>15804</td>\n      <td>581585</td>\n      <td>22398</td>\n      <td>High Value</td>\n    </tr>\n    <tr>\n      <th>404854</th>\n      <td>15804</td>\n      <td>581585</td>\n      <td>23328</td>\n      <td>High Value</td>\n    </tr>\n    <tr>\n      <th>404855</th>\n      <td>15804</td>\n      <td>581585</td>\n      <td>23145</td>\n      <td>High Value</td>\n    </tr>\n    <tr>\n      <th>404856</th>\n      <td>15804</td>\n      <td>581585</td>\n      <td>22466</td>\n      <td>High Value</td>\n    </tr>\n  </tbody>\n</table>\n<p>128999 rows × 4 columns</p>\n</div>"
     },
     "execution_count": 53,
     "metadata": {},
     "output_type": "execute_result"
    }
   ],
   "source": [
    "high_value_df = merged_df[merged_df['Segment'] == 'High Value']\n",
    "risk_df = merged_df[merged_df['Segment'] == 'Risk']\n",
    "nurture_df = merged_df[merged_df['Segment'] == 'Nurture']\n",
    "other_df = merged_df[merged_df['Segment'].isin(['High Value', 'Risk', 'Nurture']) == False]\n",
    "\n",
    "high_value_df"
   ],
   "metadata": {
    "collapsed": false,
    "ExecuteTime": {
     "end_time": "2024-03-06T06:20:03.135763100Z",
     "start_time": "2024-03-06T06:20:02.955742700Z"
    }
   },
   "id": "49b952626f8517f0"
  },
  {
   "cell_type": "code",
   "execution_count": 153,
   "outputs": [],
   "source": [
    "# Aggregate Transctions\n",
    "def aggregate_transactions(df):\n",
    "     transactions = df.groupby([\"InvoiceNo\",\"CustomerID\"]).agg({\"StockCode\": lambda s : list(set(s))})\n",
    "     return transactions"
   ],
   "metadata": {
    "collapsed": false,
    "ExecuteTime": {
     "end_time": "2024-03-06T10:40:29.338844200Z",
     "start_time": "2024-03-06T10:40:29.292563200Z"
    }
   },
   "id": "6e16e413eb5531c2"
  },
  {
   "cell_type": "code",
   "execution_count": 154,
   "outputs": [],
   "source": [
    "def get_rules(df):\n",
    "    hbasket = aggregate_transactions(df)\n",
    "    freqItemSet, rules = fpgrowth(hbasket['StockCode'].values, minSupRatio=0.01, minConf=0.8)\n",
    "    print('Number of rules generated : ', len(rules))\n",
    "    association=pd.DataFrame(rules,columns =['basket','next_product','proba']) \n",
    "    association=association.sort_values(by='proba',ascending=False)\n",
    "    \n",
    "    return association\n",
    "    "
   ],
   "metadata": {
    "collapsed": false,
    "ExecuteTime": {
     "end_time": "2024-03-06T10:40:38.999115200Z",
     "start_time": "2024-03-06T10:40:38.986987100Z"
    }
   },
   "id": "8e829feae2bfd230"
  },
  {
   "cell_type": "code",
   "execution_count": 79,
   "outputs": [
    {
     "name": "stdout",
     "output_type": "stream",
     "text": [
      "time to execute in seconds :  1.6149539947509766  s.\n",
      "Number of rules generated :  240\n"
     ]
    },
    {
     "data": {
      "text/plain": "                    basket    next_product     proba\n0                  {22784}        {85123A}  1.000000\n117         {22771, 21672}         {21668}  1.000000\n151         {22384, 20726}  {22382, 20728}  1.000000\n149         {22384, 20726}         {20728}  1.000000\n147  {22384, 20725, 20726}         {22382}  1.000000\n..                     ...             ...       ...\n89                 {21670}  {21668, 21669}  0.818182\n54                 {82581}         {82580}  0.818182\n53                 {22398}         {22400}  0.818182\n138         {22771, 21668}         {22775}  0.818182\n237         {85152, 21181}         {21166}  0.812500\n\n[240 rows x 3 columns]",
      "text/html": "<div>\n<style scoped>\n    .dataframe tbody tr th:only-of-type {\n        vertical-align: middle;\n    }\n\n    .dataframe tbody tr th {\n        vertical-align: top;\n    }\n\n    .dataframe thead th {\n        text-align: right;\n    }\n</style>\n<table border=\"1\" class=\"dataframe\">\n  <thead>\n    <tr style=\"text-align: right;\">\n      <th></th>\n      <th>basket</th>\n      <th>next_product</th>\n      <th>proba</th>\n    </tr>\n  </thead>\n  <tbody>\n    <tr>\n      <th>0</th>\n      <td>{22784}</td>\n      <td>{85123A}</td>\n      <td>1.000000</td>\n    </tr>\n    <tr>\n      <th>117</th>\n      <td>{22771, 21672}</td>\n      <td>{21668}</td>\n      <td>1.000000</td>\n    </tr>\n    <tr>\n      <th>151</th>\n      <td>{22384, 20726}</td>\n      <td>{22382, 20728}</td>\n      <td>1.000000</td>\n    </tr>\n    <tr>\n      <th>149</th>\n      <td>{22384, 20726}</td>\n      <td>{20728}</td>\n      <td>1.000000</td>\n    </tr>\n    <tr>\n      <th>147</th>\n      <td>{22384, 20725, 20726}</td>\n      <td>{22382}</td>\n      <td>1.000000</td>\n    </tr>\n    <tr>\n      <th>...</th>\n      <td>...</td>\n      <td>...</td>\n      <td>...</td>\n    </tr>\n    <tr>\n      <th>89</th>\n      <td>{21670}</td>\n      <td>{21668, 21669}</td>\n      <td>0.818182</td>\n    </tr>\n    <tr>\n      <th>54</th>\n      <td>{82581}</td>\n      <td>{82580}</td>\n      <td>0.818182</td>\n    </tr>\n    <tr>\n      <th>53</th>\n      <td>{22398}</td>\n      <td>{22400}</td>\n      <td>0.818182</td>\n    </tr>\n    <tr>\n      <th>138</th>\n      <td>{22771, 21668}</td>\n      <td>{22775}</td>\n      <td>0.818182</td>\n    </tr>\n    <tr>\n      <th>237</th>\n      <td>{85152, 21181}</td>\n      <td>{21166}</td>\n      <td>0.812500</td>\n    </tr>\n  </tbody>\n</table>\n<p>240 rows × 3 columns</p>\n</div>"
     },
     "execution_count": 79,
     "metadata": {},
     "output_type": "execute_result"
    }
   ],
   "source": [
    "lb = get_rules(other_df)\n",
    "lb"
   ],
   "metadata": {
    "collapsed": false,
    "ExecuteTime": {
     "end_time": "2024-03-06T07:50:52.666851900Z",
     "start_time": "2024-03-06T07:50:51.004868400Z"
    }
   },
   "id": "c6c08bbb0586273"
  },
  {
   "cell_type": "code",
   "execution_count": 155,
   "outputs": [],
   "source": [
    "#Get frequent item sets\n",
    "def get_most_frequent_itemsets(df):\n",
    "    # Group by InvoiceNo and CustomerID and aggregate unique StockCodes into lists\n",
    "    hbasket = aggregate_transactions(df)\n",
    "    \n",
    "    # Run FP-Growth algorithm to find frequent itemsets\n",
    "    freqItemSet, _ = fpgrowth(hbasket['StockCode'].values, minSupRatio=0.01, minConf=0.7)\n",
    "    \n",
    "    # Sort items within each itemset and convert frequent itemsets to DataFrame\n",
    "    frequent_itemsets_df = pd.DataFrame({'Frequent Itemset': [sorted(itemset) for itemset in freqItemSet]})\n",
    "    \n",
    "    # Remove duplicates (after sorting, duplicate itemsets will be identical)\n",
    "    frequent_itemsets_df = frequent_itemsets_df.drop_duplicates(subset='Frequent Itemset')\n",
    "    \n",
    "    # Filter out itemsets with less than 2 items\n",
    "    frequent_itemsets_df = frequent_itemsets_df[frequent_itemsets_df['Frequent Itemset'].apply(len) > 2]\n",
    "    \n",
    "    return frequent_itemsets_df\n"
   ],
   "metadata": {
    "collapsed": false,
    "ExecuteTime": {
     "end_time": "2024-03-06T10:41:19.675235Z",
     "start_time": "2024-03-06T10:41:19.643160300Z"
    }
   },
   "id": "91197564da5ca379"
  },
  {
   "cell_type": "code",
   "execution_count": 98,
   "outputs": [
    {
     "data": {
      "text/plain": "            Frequent Itemset\n107    [23170, 23171, 23172]\n320    [22749, 22750, 22751]\n334    [23173, 23174, 23175]\n368    [22725, 22726, 22727]\n523    [22727, 22729, 22730]\n...                      ...\n1114   [22383, 23203, 23209]\n1117  [20725, 22383, 85099B]\n1119   [20725, 22383, 23209]\n1127  [23203, 23209, 85099B]\n1129   [20725, 23203, 23209]\n\n[162 rows x 1 columns]",
      "text/html": "<div>\n<style scoped>\n    .dataframe tbody tr th:only-of-type {\n        vertical-align: middle;\n    }\n\n    .dataframe tbody tr th {\n        vertical-align: top;\n    }\n\n    .dataframe thead th {\n        text-align: right;\n    }\n</style>\n<table border=\"1\" class=\"dataframe\">\n  <thead>\n    <tr style=\"text-align: right;\">\n      <th></th>\n      <th>Frequent Itemset</th>\n    </tr>\n  </thead>\n  <tbody>\n    <tr>\n      <th>107</th>\n      <td>[23170, 23171, 23172]</td>\n    </tr>\n    <tr>\n      <th>320</th>\n      <td>[22749, 22750, 22751]</td>\n    </tr>\n    <tr>\n      <th>334</th>\n      <td>[23173, 23174, 23175]</td>\n    </tr>\n    <tr>\n      <th>368</th>\n      <td>[22725, 22726, 22727]</td>\n    </tr>\n    <tr>\n      <th>523</th>\n      <td>[22727, 22729, 22730]</td>\n    </tr>\n    <tr>\n      <th>...</th>\n      <td>...</td>\n    </tr>\n    <tr>\n      <th>1114</th>\n      <td>[22383, 23203, 23209]</td>\n    </tr>\n    <tr>\n      <th>1117</th>\n      <td>[20725, 22383, 85099B]</td>\n    </tr>\n    <tr>\n      <th>1119</th>\n      <td>[20725, 22383, 23209]</td>\n    </tr>\n    <tr>\n      <th>1127</th>\n      <td>[23203, 23209, 85099B]</td>\n    </tr>\n    <tr>\n      <th>1129</th>\n      <td>[20725, 23203, 23209]</td>\n    </tr>\n  </tbody>\n</table>\n<p>162 rows × 1 columns</p>\n</div>"
     },
     "execution_count": 98,
     "metadata": {},
     "output_type": "execute_result"
    }
   ],
   "source": [
    "xg = get_most_frequent_itemsets(nurture_df)\n",
    "xg"
   ],
   "metadata": {
    "collapsed": false,
    "ExecuteTime": {
     "end_time": "2024-03-06T08:05:17.970069700Z",
     "start_time": "2024-03-06T08:04:59.834928500Z"
    }
   },
   "id": "9c9959590d1c9cd1"
  },
  {
   "cell_type": "code",
   "execution_count": 157,
   "outputs": [
    {
     "data": {
      "text/plain": "['23170', '23171', '23172']"
     },
     "execution_count": 157,
     "metadata": {},
     "output_type": "execute_result"
    }
   ],
   "source": [
    "xg[\"Frequent Itemset\"][107]"
   ],
   "metadata": {
    "collapsed": false,
    "ExecuteTime": {
     "end_time": "2024-03-06T10:45:57.953986500Z",
     "start_time": "2024-03-06T10:45:57.907305900Z"
    }
   },
   "id": "b1aa3d55acacb3c6"
  },
  {
   "cell_type": "markdown",
   "source": [
    "## Promotional Strategies"
   ],
   "metadata": {
    "collapsed": false
   },
   "id": "53e224540340ed8d"
  },
  {
   "cell_type": "code",
   "execution_count": 149,
   "outputs": [],
   "source": [
    "#Get Buy One,Get One Discounted Bundles\n",
    "def get_bogd_bundles(df):\n",
    "        hbasket = aggregate_transactions(df)\n",
    "        freqItemSet, rules = fpgrowth(hbasket['StockCode'].values, minSupRatio=0.01, minConf=0.9)\n",
    "        print('Number of rules generated : ', len(rules))\n",
    "        \n",
    "        association=pd.DataFrame(rules,columns =['basket','next_product','proba']) \n",
    "        association=association.sort_values(by='proba',ascending=False)\n",
    "    \n",
    "        return association\n",
    "    "
   ],
   "metadata": {
    "collapsed": false,
    "ExecuteTime": {
     "end_time": "2024-03-06T10:23:27.394012500Z",
     "start_time": "2024-03-06T10:23:27.374354700Z"
    }
   },
   "id": "851da77de8b97173"
  },
  {
   "cell_type": "code",
   "execution_count": 150,
   "outputs": [],
   "source": [
    "# Buy One,Get One Discounted\n",
    "def bogd(product_bundles, order):\n",
    "    # Check if any bundle matches the items in the order\n",
    "    matching_bundles = product_bundles[product_bundles['basket'].apply(lambda x: set(x).issubset(set(order)))]\n",
    "\n",
    "    if matching_bundles.empty:\n",
    "        print(\"Order Not Eligible For Discount\")\n",
    "        return []\n",
    "\n",
    "    # Extract and return consequent products from matching bundles\n",
    "    recommended_products = matching_bundles['next_product'].tolist()\n",
    "    recommended_item_codes = [item for sublist in recommended_products for item in sublist]\n",
    "    return recommended_item_codes"
   ],
   "metadata": {
    "collapsed": false,
    "ExecuteTime": {
     "end_time": "2024-03-06T10:23:31.585904700Z",
     "start_time": "2024-03-06T10:23:31.580386900Z"
    }
   },
   "id": "b7d6247b21e829d6"
  },
  {
   "cell_type": "code",
   "execution_count": 151,
   "outputs": [
    {
     "name": "stdout",
     "output_type": "stream",
     "text": [
      "Number of rules generated :  4\n"
     ]
    },
    {
     "data": {
      "text/plain": "           basket next_product     proba\n2  {21086, 21080}      {21094}  0.966667\n0  {22746, 22745}      {22748}  0.920000\n3  {22423, 22698}      {22697}  0.906250\n1         {22746}      {22748}  0.901099",
      "text/html": "<div>\n<style scoped>\n    .dataframe tbody tr th:only-of-type {\n        vertical-align: middle;\n    }\n\n    .dataframe tbody tr th {\n        vertical-align: top;\n    }\n\n    .dataframe thead th {\n        text-align: right;\n    }\n</style>\n<table border=\"1\" class=\"dataframe\">\n  <thead>\n    <tr style=\"text-align: right;\">\n      <th></th>\n      <th>basket</th>\n      <th>next_product</th>\n      <th>proba</th>\n    </tr>\n  </thead>\n  <tbody>\n    <tr>\n      <th>2</th>\n      <td>{21086, 21080}</td>\n      <td>{21094}</td>\n      <td>0.966667</td>\n    </tr>\n    <tr>\n      <th>0</th>\n      <td>{22746, 22745}</td>\n      <td>{22748}</td>\n      <td>0.920000</td>\n    </tr>\n    <tr>\n      <th>3</th>\n      <td>{22423, 22698}</td>\n      <td>{22697}</td>\n      <td>0.906250</td>\n    </tr>\n    <tr>\n      <th>1</th>\n      <td>{22746}</td>\n      <td>{22748}</td>\n      <td>0.901099</td>\n    </tr>\n  </tbody>\n</table>\n</div>"
     },
     "execution_count": 151,
     "metadata": {},
     "output_type": "execute_result"
    }
   ],
   "source": [
    "gx = get_bogd_bundles(high_value_df)\n",
    "gx"
   ],
   "metadata": {
    "collapsed": false,
    "ExecuteTime": {
     "end_time": "2024-03-06T10:24:49.263122800Z",
     "start_time": "2024-03-06T10:23:51.811267300Z"
    }
   },
   "id": "53482981c7764a47"
  },
  {
   "cell_type": "code",
   "execution_count": 145,
   "outputs": [
    {
     "data": {
      "text/plain": "['21094']"
     },
     "execution_count": 145,
     "metadata": {},
     "output_type": "execute_result"
    }
   ],
   "source": [
    "order = gx[\"basket\"][2]  # Assuming you want to check this specific itemset\n",
    "bogd(gx, order)"
   ],
   "metadata": {
    "collapsed": false,
    "ExecuteTime": {
     "end_time": "2024-03-06T10:19:57.600746900Z",
     "start_time": "2024-03-06T10:19:57.571368900Z"
    }
   },
   "id": "73563af0d8b89e64"
  },
  {
   "cell_type": "code",
   "execution_count": 148,
   "outputs": [
    {
     "data": {
      "text/plain": "['21094']"
     },
     "execution_count": 148,
     "metadata": {},
     "output_type": "execute_result"
    }
   ],
   "source": [
    "order = {'21080','45373', '21086','67262','63773'}\n",
    "bogd(gx, order)"
   ],
   "metadata": {
    "collapsed": false,
    "ExecuteTime": {
     "end_time": "2024-03-06T10:20:40.092787Z",
     "start_time": "2024-03-06T10:20:40.061242500Z"
    }
   },
   "id": "bc10b22a8a7773c8"
  },
  {
   "cell_type": "code",
   "execution_count": null,
   "outputs": [],
   "source": [
    "#Fixed amount discount\n",
    "def apply_fixed_discount(total_amount, fixed_discount):\n",
    "    \"\"\"\n",
    "    Apply a fixed amount discount to the total purchase amount.\n",
    "\n",
    "    Parameters:\n",
    "    - total_amount (float): Total purchase amount before discount.\n",
    "    - fixed_discount (float): Fixed discount amount to be subtracted.\n",
    "\n",
    "    Returns:\n",
    "    - discounted_amount (float): Total purchase amount after applying the fixed discount.\n",
    "    \"\"\"\n",
    "    discounted_amount = max(total_amount - fixed_discount, 0)  # Ensure discounted amount doesn't go below zero\n",
    "    return discounted_amount\n"
   ],
   "metadata": {
    "collapsed": false
   },
   "id": "3a11ef5833ca353e"
  },
  {
   "cell_type": "code",
   "execution_count": 174,
   "outputs": [],
   "source": [
    "#Bundled Discounts\n",
    "def apply_bundle_discount(bundle, discount_df):\n",
    "    \"\"\"\n",
    "    Apply discounts to each item in a product bundle and return the final price.\n",
    "\n",
    "    Parameters:\n",
    "    - bundle (list): List of product IDs in the bundle.\n",
    "    - discount_df (DataFrame): DataFrame containing product IDs and their discounts.\n",
    "\n",
    "    Returns:\n",
    "    - final_price (float): Final price of the bundle after applying discounts.\n",
    "    \"\"\"\n",
    "    final_price = 0\n",
    "    \n",
    "    # Iterate through each item in the bundle\n",
    "    for item in bundle:\n",
    "        # Look up the discount for the item in the discount DataFrame\n",
    "        item_discount = discount_df.loc[discount_df['ProductID'] == item, 'Discount'].values\n",
    "        \n",
    "        # If the item is found in the discount DataFrame, apply the discount\n",
    "        if len(item_discount) > 0:\n",
    "            item_discount = item_discount[0]  # Extract the discount value\n",
    "            # Assume original price of the item is 0 if not found in discount DataFrame\n",
    "            original_price = discount_df.loc[discount_df['ProductID'] == item, 'Price'].values[0]\n",
    "            # Apply the discount to the original price of the item\n",
    "            discounted_price = original_price * (1 - item_discount)\n",
    "            # Add the discounted price to the final price\n",
    "            final_price += discounted_price\n",
    "        else:\n",
    "            print(f\"Discount not found for item {item}. Assuming original price.\")\n",
    "\n",
    "    return final_price\n"
   ],
   "metadata": {
    "collapsed": false,
    "ExecuteTime": {
     "end_time": "2024-03-06T11:04:47.362941500Z",
     "start_time": "2024-03-06T11:04:47.350900600Z"
    }
   },
   "id": "8676f5b4084bcfac"
  },
  {
   "cell_type": "code",
   "execution_count": 172,
   "outputs": [
    {
     "data": {
      "text/plain": "  ProductID  Price  Discount\n0     20725    5.0      0.10\n1     20727    8.0      0.20\n2     22383   10.0      0.15\n3     20728    7.0      0.10\n4    85099B   12.0      0.25\n5     23209    9.0      0.20\n6     23203    6.0      0.15\n7     23170   15.0      0.10\n8     23171   20.0      0.20\n9     23172   25.0      0.15",
      "text/html": "<div>\n<style scoped>\n    .dataframe tbody tr th:only-of-type {\n        vertical-align: middle;\n    }\n\n    .dataframe tbody tr th {\n        vertical-align: top;\n    }\n\n    .dataframe thead th {\n        text-align: right;\n    }\n</style>\n<table border=\"1\" class=\"dataframe\">\n  <thead>\n    <tr style=\"text-align: right;\">\n      <th></th>\n      <th>ProductID</th>\n      <th>Price</th>\n      <th>Discount</th>\n    </tr>\n  </thead>\n  <tbody>\n    <tr>\n      <th>0</th>\n      <td>20725</td>\n      <td>5.0</td>\n      <td>0.10</td>\n    </tr>\n    <tr>\n      <th>1</th>\n      <td>20727</td>\n      <td>8.0</td>\n      <td>0.20</td>\n    </tr>\n    <tr>\n      <th>2</th>\n      <td>22383</td>\n      <td>10.0</td>\n      <td>0.15</td>\n    </tr>\n    <tr>\n      <th>3</th>\n      <td>20728</td>\n      <td>7.0</td>\n      <td>0.10</td>\n    </tr>\n    <tr>\n      <th>4</th>\n      <td>85099B</td>\n      <td>12.0</td>\n      <td>0.25</td>\n    </tr>\n    <tr>\n      <th>5</th>\n      <td>23209</td>\n      <td>9.0</td>\n      <td>0.20</td>\n    </tr>\n    <tr>\n      <th>6</th>\n      <td>23203</td>\n      <td>6.0</td>\n      <td>0.15</td>\n    </tr>\n    <tr>\n      <th>7</th>\n      <td>23170</td>\n      <td>15.0</td>\n      <td>0.10</td>\n    </tr>\n    <tr>\n      <th>8</th>\n      <td>23171</td>\n      <td>20.0</td>\n      <td>0.20</td>\n    </tr>\n    <tr>\n      <th>9</th>\n      <td>23172</td>\n      <td>25.0</td>\n      <td>0.15</td>\n    </tr>\n  </tbody>\n</table>\n</div>"
     },
     "execution_count": 172,
     "metadata": {},
     "output_type": "execute_result"
    }
   ],
   "source": [
    "# Dummy Discount Data\n",
    "# Define the discount data\n",
    "discount_data = {\n",
    "    'ProductID': ['20725', '20727', '22383', '20728', '85099B', '23209', '23203','23170', '23171', '23172'],\n",
    "    'Price': [5.0, 8.0, 10.0, 7.0, 12.0, 9.0, 6.0,15.0, 20.0, 25.0],\n",
    "    'Discount': [0.1, 0.2, 0.15, 0.1, 0.25, 0.2, 0.15,0.1, 0.2, 0.15]  # Assuming sample discount percentages\n",
    "}\n",
    "\n",
    "# Create the discount DataFrame\n",
    "discount_df = pd.DataFrame(discount_data)\n",
    "discount_df\n"
   ],
   "metadata": {
    "collapsed": false,
    "ExecuteTime": {
     "end_time": "2024-03-06T11:03:09.475074600Z",
     "start_time": "2024-03-06T11:03:09.427951400Z"
    }
   },
   "id": "a17c4a1af09108a1"
  },
  {
   "cell_type": "code",
   "execution_count": 175,
   "outputs": [
    {
     "name": "stdout",
     "output_type": "stream",
     "text": [
      "Final price of the bundle after applying discounts: 50.75\n"
     ]
    }
   ],
   "source": [
    "# Example product bundle\n",
    "bundle = xg[\"Frequent Itemset\"][107]\n",
    "\n",
    "# Calculate final price of the bundle after applying discounts\n",
    "final_price = apply_bundle_discount(bundle, discount_df)\n",
    "print(\"Final price of the bundle after applying discounts:\", final_price)"
   ],
   "metadata": {
    "collapsed": false,
    "ExecuteTime": {
     "end_time": "2024-03-06T11:04:56.038043700Z",
     "start_time": "2024-03-06T11:04:56.006608300Z"
    }
   },
   "id": "2f1e4239b93ef4be"
  },
  {
   "cell_type": "code",
   "execution_count": 7,
   "outputs": [],
   "source": [
    "# Get Tiered Discount\n",
    "def calculate_tiered_discount(total_price, tiers):\n",
    "    discount = 0\n",
    "    for tier in tiers:\n",
    "        if total_price >= tier['min_amount']:\n",
    "            discount = tier['discount']\n",
    "        else:\n",
    "            break\n",
    "    return total_price - (total_price * (discount / 100))\n",
    "\n",
    "\n"
   ],
   "metadata": {
    "collapsed": false,
    "ExecuteTime": {
     "end_time": "2024-03-07T20:23:21.251524800Z",
     "start_time": "2024-03-07T20:23:21.231852200Z"
    }
   },
   "id": "13a1fd8095707a20"
  },
  {
   "cell_type": "code",
   "execution_count": 10,
   "outputs": [
    {
     "name": "stdout",
     "output_type": "stream",
     "text": [
      "Discounted Amount: $360.0\n"
     ]
    }
   ],
   "source": [
    "# Example tiers\n",
    "tiers = [\n",
    "    {'min_amount': 0, 'discount': 0},   # Tier 1: $0 - $100 (0% discount)\n",
    "    {'min_amount': 101, 'discount': 5}, # Tier 2: $101 - $200 (5% discount)\n",
    "    {'min_amount': 201, 'discount': 10} # Tier 3: $201 and above (10% discount)\n",
    "]\n",
    "\n",
    "# Example usage\n",
    "total_price = 400\n",
    "discounted_amount = calculate_tiered_discount(total_price, tiers)\n",
    "print(f\"Discounted Amount: ${discounted_amount}\")"
   ],
   "metadata": {
    "collapsed": false,
    "ExecuteTime": {
     "end_time": "2024-03-07T20:23:54.732054600Z",
     "start_time": "2024-03-07T20:23:54.663496500Z"
    }
   },
   "id": "627ef267144f99a5"
  },
  {
   "cell_type": "code",
   "execution_count": 11,
   "outputs": [],
   "source": [
    "# Loyalty Points\n",
    "def calculate_loyalty_points(total_price, points_per_dollar):\n",
    "    return total_price * points_per_dollar"
   ],
   "metadata": {
    "collapsed": false,
    "ExecuteTime": {
     "end_time": "2024-03-07T20:32:22.036020200Z",
     "start_time": "2024-03-07T20:32:21.968485600Z"
    }
   },
   "id": "9cf79202d37d510a"
  },
  {
   "cell_type": "code",
   "execution_count": 12,
   "outputs": [
    {
     "name": "stdout",
     "output_type": "stream",
     "text": [
      "Loyalty Points Earned: 300\n"
     ]
    }
   ],
   "source": [
    "# Example usage\n",
    "total_price = 150\n",
    "points_per_dollar = 2  # Assume 2 points per dollar spent\n",
    "loyalty_points = calculate_loyalty_points(total_price, points_per_dollar)\n",
    "print(f\"Loyalty Points Earned: {loyalty_points}\")\n"
   ],
   "metadata": {
    "collapsed": false,
    "ExecuteTime": {
     "end_time": "2024-03-07T20:32:34.728067100Z",
     "start_time": "2024-03-07T20:32:34.647994600Z"
    }
   },
   "id": "42c5fa7cf00a6c0e"
  },
  {
   "cell_type": "markdown",
   "source": [
    "## Peak Selection"
   ],
   "metadata": {
    "collapsed": false
   },
   "id": "4b314029139a98d2"
  },
  {
   "cell_type": "code",
   "execution_count": 15,
   "outputs": [],
   "source": [
    "def find_promotion_periods(sales_forecast, threshold_increase_pct, threshold_decrease_pct):\n",
    "    promotion_periods = []\n",
    "    current_period = []\n",
    "\n",
    "    for day, sales_volume in sales_forecast.items():\n",
    "        if current_period:\n",
    "            prev_day, prev_sales = current_period[-1]\n",
    "            increase_pct = (sales_volume - prev_sales) / prev_sales * 100\n",
    "            decrease_pct = (prev_sales - sales_volume) / prev_sales * 100\n",
    "            if increase_pct >= threshold_increase_pct or decrease_pct >= threshold_decrease_pct:\n",
    "                current_period.append((day, sales_volume))\n",
    "            else:\n",
    "                promotion_periods.append(current_period)\n",
    "                current_period = [(day, sales_volume)]\n",
    "        else:\n",
    "            current_period.append((day, sales_volume))\n",
    "\n",
    "    # Add the last period if it exists\n",
    "    if current_period:\n",
    "        promotion_periods.append(current_period)\n",
    "\n",
    "    # Merge consecutive periods if the next peak is within 2 days\n",
    "    merged_periods = []\n",
    "    i = 0\n",
    "    while i < len(promotion_periods):\n",
    "        period_start = promotion_periods[i][0][0]\n",
    "        period_end = promotion_periods[i][-1][0]\n",
    "        merged = False\n",
    "        for j in range(i + 1, min(i + 3, len(promotion_periods))):\n",
    "            next_period_start = promotion_periods[j][0][0]\n",
    "            if next_period_start - period_end <= 2:\n",
    "                period_end = promotion_periods[j][-1][0]\n",
    "                merged = True\n",
    "            else:\n",
    "                break\n",
    "        merged_periods.append((period_start, period_end))\n",
    "        if merged:\n",
    "            i = j + 1\n",
    "        else:\n",
    "            i += 1\n",
    "\n",
    "    # Separate peak and lull periods\n",
    "    peak_periods = []\n",
    "    lull_periods = []\n",
    "    for period in merged_periods:\n",
    "        period_start, period_end = period\n",
    "        period_sales = [sales_forecast[day] for day in range(period_start, period_end + 1)]\n",
    "        if all(sales > sales_forecast[period_start] for sales in period_sales):\n",
    "            peak_periods.append(period)\n",
    "        elif all(sales < sales_forecast[period_start] for sales in period_sales):\n",
    "            lull_periods.append(period)\n",
    "\n",
    "    # Ensure there are at least 2 lull periods and 1 peak period\n",
    "    while len(lull_periods) < 2:\n",
    "        if peak_periods:\n",
    "            lull_periods.append(peak_periods.pop(0))\n",
    "        else:\n",
    "            break\n",
    "\n",
    "    # Return both peak and lull periods\n",
    "    return lull_periods, peak_periods\n",
    "\n",
    "\n"
   ],
   "metadata": {
    "collapsed": false,
    "ExecuteTime": {
     "end_time": "2024-03-07T20:49:36.035377100Z",
     "start_time": "2024-03-07T20:49:35.971433500Z"
    }
   },
   "id": "d1607fc2dd5e7441"
  },
  {
   "cell_type": "code",
   "execution_count": 21,
   "outputs": [
    {
     "name": "stdout",
     "output_type": "stream",
     "text": [
      "Lull Periods: []\n",
      "Peak Periods: []\n"
     ]
    }
   ],
   "source": [
    "# Example usage\n",
    "sales_forecast = {1: 100, 2: 120, 3: 130, 4: 150, 5: 160, 6: 170, 7: 175, 8: 180, 9: 175, 10: 170}\n",
    "threshold_increase_pct = 0  # Define threshold percentage increase\n",
    "threshold_decrease_pct = -10  # Define threshold percentage decrease\n",
    "\n",
    "lull_periods, peak_periods = find_promotion_periods(sales_forecast, threshold_increase_pct, threshold_decrease_pct)\n",
    "print(\"Lull Periods:\", lull_periods)\n",
    "print(\"Peak Periods:\", peak_periods)"
   ],
   "metadata": {
    "collapsed": false,
    "ExecuteTime": {
     "end_time": "2024-03-07T20:50:44.880987700Z",
     "start_time": "2024-03-07T20:50:44.864819500Z"
    }
   },
   "id": "742024d666b57bb7"
  },
  {
   "cell_type": "code",
   "execution_count": 22,
   "outputs": [],
   "source": [
    "import pandas as pd\n",
    "\n",
    "def find_promo_days(sales_data, peak_threshold=1.2, lull_threshold=0.8, num_promos=3):\n",
    "    \"\"\"Identifies peak and lull promotion days based on percentage thresholds of average sales volume.\n",
    "\n",
    "    Args:\n",
    "        sales_data (pd.DataFrame): DataFrame with at least 'Date' and 'Sales Volume' columns.\n",
    "        peak_threshold (float, optional): Multiplier for avg. sales volume to define a peak. Defaults to 1.2 (20% above average).\n",
    "        lull_threshold (float, optional): Multiplier for avg. sales volume to define a lull. Defaults to 0.8 (20% below average).\n",
    "        num_promos (int, optional): The maximum number of promotions per month. Defaults to 3.\n",
    "\n",
    "    Returns:\n",
    "        tuple: A tuple containing two lists:\n",
    "            - peak_days: A list of the top 'num_promos' sales peaks (dates).\n",
    "            - tull_days: A list of the top 'num_promos' sales tulls (dates). \n",
    "    \"\"\"\n",
    "\n",
    "    if not isinstance(sales_data, pd.DataFrame):\n",
    "        raise TypeError(\"sales_data must be a pandas DataFrame\")\n",
    "\n",
    "    # Calculate average sales volume\n",
    "    avg_sales = sales_data['Sales Volume'].mean()\n",
    "\n",
    "    # Apply thresholds\n",
    "    peak_condition = sales_data['Sales Volume'] >= avg_sales * peak_threshold\n",
    "    lull_condition = sales_data['Sales Volume'] <= avg_sales * lull_threshold\n",
    "\n",
    "    # Get top peaks and tulls\n",
    "    peak_days = sales_data[peak_condition]['Date'].iloc[:num_promos].tolist()\n",
    "    tull_days = sales_data[lull_condition]['Date'].iloc[:num_promos].tolist()\n",
    "\n",
    "    return peak_days, tull_days \n"
   ],
   "metadata": {
    "collapsed": false,
    "ExecuteTime": {
     "end_time": "2024-03-07T20:57:26.950088300Z",
     "start_time": "2024-03-07T20:57:26.886968800Z"
    }
   },
   "id": "dcbe0fc7026f3ca0"
  },
  {
   "cell_type": "code",
   "execution_count": 23,
   "outputs": [
    {
     "name": "stdout",
     "output_type": "stream",
     "text": [
      "Peak Promotion Days: [Timestamp('2024-03-03 00:00:00'), Timestamp('2024-03-05 00:00:00'), Timestamp('2024-03-06 00:00:00')]\n",
      "Tull Promotion Days: [Timestamp('2024-03-02 00:00:00'), Timestamp('2024-03-07 00:00:00'), Timestamp('2024-03-13 00:00:00')]\n"
     ]
    }
   ],
   "source": [
    "import pandas as pd\n",
    "import numpy as np\n",
    "import random\n",
    "\n",
    "# 1. Create date range (let's assume a month)\n",
    "dates = pd.date_range(start='2024-03-01', end='2024-03-31')\n",
    "\n",
    "# 2. Generate some base sales data with fluctuations\n",
    "base_sales = np.random.randint(50, 150, size=len(dates))\n",
    "\n",
    "# 3. Add some random peaks and dips \n",
    "for i in random.sample(range(len(dates)), k=5):  # Introduce 5 random spikes\n",
    "    base_sales[i] *= random.uniform(1.5, 2)  \n",
    "for i in random.sample(range(len(dates)), k=5):  # Introduce 5 random dips\n",
    "    base_sales[i] *= random.uniform(0.5, 0.8)  \n",
    "\n",
    "# 4. Create DataFrame\n",
    "sales_data = pd.DataFrame({'Date': dates, 'Sales Volume': base_sales})\n",
    "\n",
    "# 5. Test the function\n",
    "peak_days, tull_days = find_promo_days(sales_data)\n",
    "print(\"Peak Promotion Days:\", peak_days)\n",
    "print(\"Tull Promotion Days:\", tull_days)\n"
   ],
   "metadata": {
    "collapsed": false,
    "ExecuteTime": {
     "end_time": "2024-03-07T20:58:09.347703600Z",
     "start_time": "2024-03-07T20:58:09.088364200Z"
    }
   },
   "id": "12408cfe9cd13b2b"
  },
  {
   "cell_type": "code",
   "execution_count": 25,
   "outputs": [
    {
     "data": {
      "text/plain": "         Date  Sales Volume\n0  2024-03-01            84\n1  2024-03-02            68\n2  2024-03-03           194\n3  2024-03-04            84\n4  2024-03-05           123\n5  2024-03-06           152\n6  2024-03-07            66\n7  2024-03-08           134\n8  2024-03-09           244\n9  2024-03-10           120\n10 2024-03-11           115\n11 2024-03-12           109\n12 2024-03-13            71\n13 2024-03-14           109\n14 2024-03-15           114\n15 2024-03-16            48\n16 2024-03-17            52\n17 2024-03-18           128\n18 2024-03-19           101\n19 2024-03-20            59\n20 2024-03-21            68\n21 2024-03-22           103\n22 2024-03-23            78\n23 2024-03-24           125\n24 2024-03-25            74\n25 2024-03-26           116\n26 2024-03-27            92\n27 2024-03-28           119\n28 2024-03-29            30\n29 2024-03-30           131\n30 2024-03-31            62",
      "text/html": "<div>\n<style scoped>\n    .dataframe tbody tr th:only-of-type {\n        vertical-align: middle;\n    }\n\n    .dataframe tbody tr th {\n        vertical-align: top;\n    }\n\n    .dataframe thead th {\n        text-align: right;\n    }\n</style>\n<table border=\"1\" class=\"dataframe\">\n  <thead>\n    <tr style=\"text-align: right;\">\n      <th></th>\n      <th>Date</th>\n      <th>Sales Volume</th>\n    </tr>\n  </thead>\n  <tbody>\n    <tr>\n      <th>0</th>\n      <td>2024-03-01</td>\n      <td>84</td>\n    </tr>\n    <tr>\n      <th>1</th>\n      <td>2024-03-02</td>\n      <td>68</td>\n    </tr>\n    <tr>\n      <th>2</th>\n      <td>2024-03-03</td>\n      <td>194</td>\n    </tr>\n    <tr>\n      <th>3</th>\n      <td>2024-03-04</td>\n      <td>84</td>\n    </tr>\n    <tr>\n      <th>4</th>\n      <td>2024-03-05</td>\n      <td>123</td>\n    </tr>\n    <tr>\n      <th>5</th>\n      <td>2024-03-06</td>\n      <td>152</td>\n    </tr>\n    <tr>\n      <th>6</th>\n      <td>2024-03-07</td>\n      <td>66</td>\n    </tr>\n    <tr>\n      <th>7</th>\n      <td>2024-03-08</td>\n      <td>134</td>\n    </tr>\n    <tr>\n      <th>8</th>\n      <td>2024-03-09</td>\n      <td>244</td>\n    </tr>\n    <tr>\n      <th>9</th>\n      <td>2024-03-10</td>\n      <td>120</td>\n    </tr>\n    <tr>\n      <th>10</th>\n      <td>2024-03-11</td>\n      <td>115</td>\n    </tr>\n    <tr>\n      <th>11</th>\n      <td>2024-03-12</td>\n      <td>109</td>\n    </tr>\n    <tr>\n      <th>12</th>\n      <td>2024-03-13</td>\n      <td>71</td>\n    </tr>\n    <tr>\n      <th>13</th>\n      <td>2024-03-14</td>\n      <td>109</td>\n    </tr>\n    <tr>\n      <th>14</th>\n      <td>2024-03-15</td>\n      <td>114</td>\n    </tr>\n    <tr>\n      <th>15</th>\n      <td>2024-03-16</td>\n      <td>48</td>\n    </tr>\n    <tr>\n      <th>16</th>\n      <td>2024-03-17</td>\n      <td>52</td>\n    </tr>\n    <tr>\n      <th>17</th>\n      <td>2024-03-18</td>\n      <td>128</td>\n    </tr>\n    <tr>\n      <th>18</th>\n      <td>2024-03-19</td>\n      <td>101</td>\n    </tr>\n    <tr>\n      <th>19</th>\n      <td>2024-03-20</td>\n      <td>59</td>\n    </tr>\n    <tr>\n      <th>20</th>\n      <td>2024-03-21</td>\n      <td>68</td>\n    </tr>\n    <tr>\n      <th>21</th>\n      <td>2024-03-22</td>\n      <td>103</td>\n    </tr>\n    <tr>\n      <th>22</th>\n      <td>2024-03-23</td>\n      <td>78</td>\n    </tr>\n    <tr>\n      <th>23</th>\n      <td>2024-03-24</td>\n      <td>125</td>\n    </tr>\n    <tr>\n      <th>24</th>\n      <td>2024-03-25</td>\n      <td>74</td>\n    </tr>\n    <tr>\n      <th>25</th>\n      <td>2024-03-26</td>\n      <td>116</td>\n    </tr>\n    <tr>\n      <th>26</th>\n      <td>2024-03-27</td>\n      <td>92</td>\n    </tr>\n    <tr>\n      <th>27</th>\n      <td>2024-03-28</td>\n      <td>119</td>\n    </tr>\n    <tr>\n      <th>28</th>\n      <td>2024-03-29</td>\n      <td>30</td>\n    </tr>\n    <tr>\n      <th>29</th>\n      <td>2024-03-30</td>\n      <td>131</td>\n    </tr>\n    <tr>\n      <th>30</th>\n      <td>2024-03-31</td>\n      <td>62</td>\n    </tr>\n  </tbody>\n</table>\n</div>"
     },
     "execution_count": 25,
     "metadata": {},
     "output_type": "execute_result"
    }
   ],
   "source": [
    "sales_data"
   ],
   "metadata": {
    "collapsed": false,
    "ExecuteTime": {
     "end_time": "2024-03-07T20:58:52.420043100Z",
     "start_time": "2024-03-07T20:58:52.356602800Z"
    }
   },
   "id": "284252d0d70b6042"
  },
  {
   "cell_type": "code",
   "execution_count": 26,
   "outputs": [],
   "source": [
    "import pandas as pd\n",
    "import numpy as np\n",
    "import random\n",
    "\n",
    "def find_promo_days(sales_data, peak_threshold=1.2, lull_threshold=0.8, num_promos=3, proximity_days=3):\n",
    "    \"\"\"Identifies peak and lull promotional periods based on percentage thresholds of average sales volume, \n",
    "    considering proximity to group close dates into extended periods.\n",
    "\n",
    "    Args:\n",
    "        sales_data (pd.DataFrame): DataFrame containing 'Date' and 'Sales Volume' columns.\n",
    "        peak_threshold (float, optional): Multiplier for avg. sales volume to define a peak. Defaults to 1.2 (20% above average).\n",
    "        lull_threshold (float, optional): Multiplier for avg. sales volume to define a lull. Defaults to 0.8 (20% below average).\n",
    "        num_promos (int, optional): The maximum number of promotions per month (ignored in this implementation). Defaults to 3.\n",
    "        proximity_days (int, optional): The maximum number of days between dates to consider them part of the same promotional period. Defaults to 3.\n",
    "\n",
    "    Returns:\n",
    "        list: A list of lists, where each sub-list represents a promotional period (containing 'Date' objects).\n",
    "    \"\"\"\n",
    "\n",
    "    if not isinstance(sales_data, pd.DataFrame):\n",
    "        raise TypeError(\"sales_data must be a pandas DataFrame\")\n",
    "\n",
    "    # Calculate average sales volume\n",
    "    avg_sales = sales_data['Sales Volume'].mean()\n",
    "\n",
    "    # Apply thresholds to identify days within peak or lull zones\n",
    "    peak_condition = sales_data['Sales Volume'] >= avg_sales * peak_threshold\n",
    "    lull_condition = sales_data['Sales Volume'] <= avg_sales * lull_threshold\n",
    "\n",
    "    # Get top peaks and tulls (as dates) based on the conditions\n",
    "    peak_days = sales_data[peak_condition]['Date'].tolist()\n",
    "    tull_days = sales_data[lull_condition]['Date'].tolist()\n",
    "\n",
    "    # Process peak days for proximity and group into promotional periods\n",
    "    promo_periods = cluster_close_dates(peak_days, proximity_days) \n",
    "\n",
    "    # Process tull days for proximity and group into promotional periods\n",
    "    promo_periods.extend(cluster_close_dates(tull_days, proximity_days))\n",
    "\n",
    "    return promo_periods\n",
    "\n",
    "def cluster_close_dates(dates, proximity_days):\n",
    "    \"\"\"Groups closely spaced dates into promotional periods.\n",
    "\n",
    "    Args:\n",
    "        dates (list): A list of 'Date' objects.\n",
    "        proximity_days (int): The maximum number of days between dates to consider them part of the same promotional period.\n",
    "\n",
    "    Returns:\n",
    "        list: A list of lists, where each sub-list represents a promotional period (containing 'Date' objects).\n",
    "    \"\"\"\n",
    "\n",
    "    promo_periods = []  # List to store promotional periods (groups of dates)\n",
    "    current_period = []  # Temporary list to store dates in a potential period\n",
    "\n",
    "    for date in dates:\n",
    "        # Check if a new period needs to be started (current period with a gap of more than 'proximity_days')\n",
    "        if current_period and (date - current_period[-1]).days > proximity_days:\n",
    "            promo_periods.append(current_period)  # Add the previous period to results\n",
    "            current_period = []  # Reset the current period list\n",
    "\n",
    "        current_period.append(date)  # Add the current date to the period list\n",
    "\n",
    "    if current_period:  # Add the last remaining period, if any\n",
    "        promo_periods.append(current_period)\n",
    "\n",
    "    return promo_periods\n",
    "\n",
    "# (Optional) Dummy data generation for testing purposes\n",
    "import datetime\n",
    "\n",
    "def generate_dummy_data(start_date='2024-03-01', end_date='2024-03-31'):\n",
    "  \"\"\"Generates dummy sales data with random fluctuations, peaks, and dips.\"\"\"\n",
    "  dates = pd.date_range(start=start_date, end=end_date)\n",
    "  base_sales = np.random.randint(50, 150, size=len(dates))\n",
    "  for i in random.sample(range(len(dates)), k=5):\n",
    "      base_sales[i] *= random.uniform(1.5, 2)  # Introduce random peaks\n",
    "  for i in random.sample(range(len(dates)), k=5):\n",
    "      base_sales[i] *= random.uniform(0.5, 0.8)  # Introduce random dips\n",
    "  return pd\n"
   ],
   "metadata": {
    "collapsed": false,
    "ExecuteTime": {
     "end_time": "2024-03-07T21:02:40.915793800Z",
     "start_time": "2024-03-07T21:02:40.776138Z"
    }
   },
   "id": "f5f21dee53f8955"
  },
  {
   "cell_type": "code",
   "execution_count": 31,
   "outputs": [],
   "source": [
    "def generate_dummy_data(start_date='2024-03-01', end_date='2024-03-31'):\n",
    "    dates = pd.date_range(start=start_date, end=end_date)\n",
    "    base_sales = np.random.randint(50, 150, size=len(dates))\n",
    "\n",
    "    # Introduce clustered peaks and valleys\n",
    "    peak_clusters = [[2, 3, 5], [10, 11], [20, 22, 23]] \n",
    "    lull_clusters = [[8, 9], [16, 18], [27, 28, 29]]\n",
    "\n",
    "    for cluster in peak_clusters:\n",
    "        for i in cluster:\n",
    "            base_sales[i] *= random.uniform(1.5, 2)\n",
    "\n",
    "    for cluster in lull_clusters:\n",
    "        for i in cluster:\n",
    "            base_sales[i] *= random.uniform(0.5, 0.8)\n",
    "\n",
    "    return pd.DataFrame({'Date': dates, 'Sales Volume': base_sales})"
   ],
   "metadata": {
    "collapsed": false,
    "ExecuteTime": {
     "end_time": "2024-03-07T21:18:54.476740100Z",
     "start_time": "2024-03-07T21:18:54.439399400Z"
    }
   },
   "id": "35dc0b9df8509469"
  },
  {
   "cell_type": "code",
   "execution_count": 32,
   "outputs": [
    {
     "name": "stdout",
     "output_type": "stream",
     "text": [
      "Promotional Period: 2024-03-03 to 2024-03-06\n",
      "Promotional Period: 2024-03-11 to 2024-03-12\n",
      "Promotional Period: 2024-03-21 to 2024-03-26\n",
      "Promotional Period: 2024-03-01 to 2024-03-02\n",
      "Promotional Period: 2024-03-08 to 2024-03-10\n",
      "Promotional Period: 2024-03-13 to 2024-03-14\n",
      "Promotional Period: 2024-03-17 to 2024-03-17\n",
      "Promotional Period: 2024-03-20 to 2024-03-22\n",
      "Promotional Period: 2024-03-27 to 2024-03-31\n"
     ]
    }
   ],
   "source": [
    "# Generate test data\n",
    "sales_data = generate_dummy_data()\n",
    "\n",
    "# Find promotional periods with a proximity of 2 days\n",
    "promo_periods = find_promo_days(sales_data, proximity_days=2) \n",
    "\n",
    "# Print results\n",
    "for period in promo_periods:\n",
    "    start_date = period[0].strftime('%Y-%m-%d')\n",
    "    end_date = period[-1].strftime('%Y-%m-%d')\n",
    "    print(f\"Promotional Period: {start_date} to {end_date}\")\n"
   ],
   "metadata": {
    "collapsed": false,
    "ExecuteTime": {
     "end_time": "2024-03-07T21:23:08.158109700Z",
     "start_time": "2024-03-07T21:23:08.016581700Z"
    }
   },
   "id": "e6e79317adeb93cf"
  },
  {
   "cell_type": "code",
   "execution_count": 37,
   "outputs": [
    {
     "data": {
      "text/plain": "<Figure size 1000x600 with 1 Axes>",
      "image/png": "[encoded data removed]"
     },
     "metadata": {},
     "output_type": "display_data"
    }
   ],
   "source": [
    "plt.figure(figsize=(10,6))\n",
    "plt.plot(sales_data[\"Date\"],sales_data[\"Sales Volume\"]);"
   ],
   "metadata": {
    "collapsed": false,
    "ExecuteTime": {
     "end_time": "2024-03-07T21:26:46.398985900Z",
     "start_time": "2024-03-07T21:26:45.116586500Z"
    }
   },
   "id": "e0950bf1f28df6e7"
  },
  {
   "cell_type": "code",
   "execution_count": null,
   "outputs": [],
   "source": [],
   "metadata": {
    "collapsed": false
   },
   "id": "6c4a26ee7eed5c50"
  }
 ],
 "metadata": {
  "kernelspec": {
   "display_name": "Python 3",
   "language": "python",
   "name": "python3"
  },
  "language_info": {
   "codemirror_mode": {
    "name": "ipython",
    "version": 2
   },
   "file_extension": ".py",
   "mimetype": "text/x-python",
   "name": "python",
   "nbconvert_exporter": "python",
   "pygments_lexer": "ipython2",
   "version": "2.7.6"
  }
 },
 "nbformat": 4,
 "nbformat_minor": 5
}
