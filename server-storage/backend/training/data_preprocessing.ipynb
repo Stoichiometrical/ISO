{
 "cells": [
  {
   "metadata": {},
   "cell_type": "markdown",
   "source": "# Data Preprocessing and Exploration",
   "id": "31bc4cd50f06061d"
  },
  {
   "metadata": {},
   "cell_type": "markdown",
   "source": "-This notebook initiates the model selection process by exploring the data and preprocessing it for model training and furthur processing.The data used is 2 years sales data of an online retailer in the UK between December 2009 and January 2012.",
   "id": "98b5578a290b5dd7"
  },
  {
   "metadata": {
    "ExecuteTime": {
     "end_time": "2024-07-17T05:31:20.727428Z",
     "start_time": "2024-07-17T05:31:16.512351Z"
    }
   },
   "cell_type": "code",
   "source": [
    "#Import the neccesary libraries\n",
    "import warnings\n",
    "warnings.filterwarnings('ignore')\n",
    "import pandas as pd\n",
    "import seaborn as sns\n",
    "import matplotlib.pyplot as plt\n",
    "from statsmodels.tsa.seasonal import seasonal_decompose"
   ],
   "id": "376cef14660499dc",
   "execution_count": 1,
   "outputs": []
  },
  {
   "metadata": {
    "ExecuteTime": {
     "end_time": "2024-07-17T05:42:06.036613Z",
     "start_time": "2024-07-17T05:35:21.763462Z"
    }
   },
   "cell_type": "code",
   "source": [
    "#Import data\n",
    "#Workbook has two sheets\n",
    "df1 = pd.read_excel(\"online_retail_II.xlsx\",sheet_name=\"Year 2009-2010\")\n",
    "df2 = pd.read_excel(\"online_retail_II.xlsx\",sheet_name=\"Year 2010-2011\")\n",
    "df1.head()"
   ],
   "id": "a3013cd5b0f67161",
   "execution_count": 5,
   "outputs": []
  },
  {
   "metadata": {
    "ExecuteTime": {
     "end_time": "2024-07-17T05:44:14.961495Z",
     "start_time": "2024-07-17T05:44:14.735496Z"
    }
   },
   "cell_type": "code",
   "source": [
    "# Concatenate the DataFrames\n",
    "merged_df = pd.concat([df1, df2], ignore_index=True)\n",
    "merged_df.head()"
   ],
   "id": "f8d4d29346d3ba24",
   "execution_count": 6,
   "outputs": []
  },
  {
   "metadata": {
    "ExecuteTime": {
     "end_time": "2024-07-17T05:44:19.954392Z",
     "start_time": "2024-07-17T05:44:19.923940Z"
    }
   },
   "cell_type": "code",
   "source": [
    "#Check the min date and max date of new dataframe\n",
    "print(\"Merged max :\", merged_df[\"InvoiceDate\"].max())\n",
    "print(\"Merged min :\", merged_df[\"InvoiceDate\"].min())"
   ],
   "id": "3fb6c3d7b49cf3a9",
   "execution_count": 7,
   "outputs": []
  },
  {
   "metadata": {
    "ExecuteTime": {
     "end_time": "2024-07-17T05:47:12.070032Z",
     "start_time": "2024-07-17T05:47:11.898455Z"
    }
   },
   "cell_type": "code",
   "source": [
    "#Removed cancelled transactions\n",
    "merged_df = merged_df[merged_df[\"Quantity\"]>0]"
   ],
   "id": "50d61e4b18b850f3",
   "execution_count": 10,
   "outputs": []
  },
  {
   "metadata": {
    "ExecuteTime": {
     "end_time": "2024-07-17T05:47:34.332121Z",
     "start_time": "2024-07-17T05:47:14.959941Z"
    }
   },
   "cell_type": "code",
   "source": [
    "#save the new dataframe to csv\n",
    "merged_df.to_csv(\"uk_dataset_full.csv\")"
   ],
   "id": "f913e6200690d67c",
   "execution_count": 11,
   "outputs": []
  },
  {
   "metadata": {
    "ExecuteTime": {
     "end_time": "2024-07-17T05:50:10.509811Z",
     "start_time": "2024-07-17T05:50:08.193628Z"
    }
   },
   "cell_type": "code",
   "source": [
    "#Create date column to allow finding of daily sales volume\n",
    "merged_df[\"InvoiceDate\"] = pd.to_datetime(merged_df[\"InvoiceDate\"])\n",
    "merged_df[\"date\"] = merged_df[\"InvoiceDate\"].dt.date"
   ],
   "id": "d7f21e2ba721cd34",
   "execution_count": 12,
   "outputs": []
  },
  {
   "metadata": {
    "ExecuteTime": {
     "end_time": "2024-07-17T05:55:37.283759Z",
     "start_time": "2024-07-17T05:55:36.995898Z"
    }
   },
   "cell_type": "code",
   "source": [
    "#Group daily sales volume\n",
    "merged_daily = merged_df.groupby('date')['Quantity'].sum().reset_index()\n",
    "merged_daily.head()"
   ],
   "id": "317f8aa541c3a54d",
   "execution_count": 13,
   "outputs": []
  },
  {
   "metadata": {
    "ExecuteTime": {
     "end_time": "2024-07-17T05:57:29.690712Z",
     "start_time": "2024-07-17T05:57:29.678848Z"
    }
   },
   "cell_type": "code",
   "source": [
    "#save the  daily sales volume\n",
    "merged_daily.to_csv(\"uk_daily_sales_full.csv\")"
   ],
   "id": "a6e2f8e12aa438c8",
   "execution_count": 14,
   "outputs": []
  },
  {
   "metadata": {},
   "cell_type": "markdown",
   "source": "### Exploration and Cleaning",
   "id": "83b829757f5c7c5a"
  },
  {
   "metadata": {
    "ExecuteTime": {
     "end_time": "2024-07-17T06:02:11.008266Z",
     "start_time": "2024-07-17T06:02:06.805921Z"
    }
   },
   "cell_type": "code",
   "source": [
    "#Check the distribution\n",
    "plt.figure(figsize=(10,5))\n",
    "plt.plot(merged_daily[\"date\"],merged_daily[\"Quantity\"]);"
   ],
   "id": "2785e114a4bfa1ba",
   "execution_count": 15,
   "outputs": []
  },
  {
   "metadata": {
    "ExecuteTime": {
     "end_time": "2024-07-17T06:03:52.156867Z",
     "start_time": "2024-07-17T06:03:52.116577Z"
    }
   },
   "cell_type": "code",
   "source": [
    "#Overview of data\n",
    "merged_daily.info()"
   ],
   "id": "6afc065a3f3b1623",
   "execution_count": 16,
   "outputs": []
  },
  {
   "metadata": {
    "ExecuteTime": {
     "end_time": "2024-07-17T06:07:30.718549Z",
     "start_time": "2024-07-17T06:07:30.697288Z"
    }
   },
   "cell_type": "code",
   "source": [
    "#Convert date column to datetime\n",
    "merged_daily[\"date\"] = pd.to_datetime(merged_daily[\"date\"])"
   ],
   "id": "5498085403ec55f8",
   "execution_count": 18,
   "outputs": []
  },
  {
   "metadata": {
    "ExecuteTime": {
     "end_time": "2024-07-17T06:04:33.262396Z",
     "start_time": "2024-07-17T06:04:33.214003Z"
    }
   },
   "cell_type": "code",
   "source": [
    "#Descriptive statistics\n",
    "merged_daily.describe()\n",
    "\n",
    "#possibility of missing dates and outliers"
   ],
   "id": "f8dc9d6ddff8d7d3",
   "execution_count": 17,
   "outputs": []
  },
  {
   "metadata": {
    "ExecuteTime": {
     "end_time": "2024-07-17T06:13:08.411247Z",
     "start_time": "2024-07-17T06:13:08.347518Z"
    }
   },
   "cell_type": "code",
   "source": [
    "#Rename quantity column to lowercase\n",
    "merged_daily.rename(columns={\"Quantity\":\"quantity\"},inplace=True)"
   ],
   "id": "4d912facc43ee436",
   "execution_count": 20,
   "outputs": []
  },
  {
   "metadata": {
    "ExecuteTime": {
     "end_time": "2024-07-17T06:13:15.002514Z",
     "start_time": "2024-07-17T06:13:11.410094Z"
    }
   },
   "cell_type": "code",
   "source": [
    "# Plot to visualise outliers\n",
    "plt.figure(figsize=(12, 6))\n",
    "plt.plot(merged_daily['quantity'])\n",
    "plt.title('Time Series Plot')\n",
    "plt.show()\n",
    "\n",
    "# Box plot\n",
    "plt.figure(figsize=(12, 6))\n",
    "plt.boxplot(merged_daily['quantity'], vert=False)\n",
    "plt.title('Box Plot of Quantity')\n",
    "plt.show();"
   ],
   "id": "e5f46b146d8203db",
   "execution_count": 21,
   "outputs": []
  },
  {
   "metadata": {
    "ExecuteTime": {
     "end_time": "2024-07-17T06:15:04.860996Z",
     "start_time": "2024-07-17T06:15:04.844084Z"
    }
   },
   "cell_type": "code",
   "source": [
    "#Make a copy of the dataframe  \n",
    "df = merged_daily.copy()\n"
   ],
   "id": "1f038ff28785353d",
   "execution_count": 22,
   "outputs": []
  },
  {
   "metadata": {
    "ExecuteTime": {
     "end_time": "2024-07-17T06:16:32.497994Z",
     "start_time": "2024-07-17T06:16:32.436885Z"
    }
   },
   "cell_type": "code",
   "source": [
    "# Set winsorization threshold to convert any number above 60000 to 60000\n",
    "threshold = 60000\n",
    "\n",
    "# Winsorize the 'quantity' column\n",
    "df['quantity_winsorized'] = df['quantity'].where(df['quantity'] <= threshold, threshold)\n",
    "df.head(5)"
   ],
   "id": "f448b63bfdba42c4",
   "execution_count": 23,
   "outputs": []
  },
  {
   "metadata": {
    "ExecuteTime": {
     "end_time": "2024-07-17T06:27:54.445884Z",
     "start_time": "2024-07-17T06:27:53.131862Z"
    }
   },
   "cell_type": "code",
   "source": [
    "plt.figure(figsize=(12, 6))\n",
    "sns.histplot(df[\"quantity\"])\n",
    "plt.xlim(0, 50000)\n",
    "plt.title('Distribution of Quantities (Up to 50,000)')\n",
    "plt.xlabel('Quantity')\n",
    "plt.ylabel('Frequency')\n",
    "plt.show();\n"
   ],
   "id": "1961aa256aad6a4b",
   "execution_count": 28,
   "outputs": []
  },
  {
   "metadata": {
    "ExecuteTime": {
     "end_time": "2024-07-17T06:30:15.104273Z",
     "start_time": "2024-07-17T06:30:15.093038Z"
    }
   },
   "cell_type": "code",
   "source": [
    "#Two years is roughy 730 days so we have missing date, find them and impute\n",
    "df.shape"
   ],
   "id": "aa599c5799b418da",
   "execution_count": 30,
   "outputs": []
  },
  {
   "metadata": {
    "ExecuteTime": {
     "end_time": "2024-07-17T06:32:02.061668Z",
     "start_time": "2024-07-17T06:32:02.042664Z"
    }
   },
   "cell_type": "code",
   "source": [
    "def find_date_range(df):\n",
    "    min_date =df['date'].min()\n",
    "    max_date = df['date'].max()\n",
    "    date_range = pd.date_range(start=min_date, end=max_date)\n",
    "    df = df.set_index('date').reindex(date_range).rename_axis('date').reset_index()\n",
    "    return  df"
   ],
   "id": "dcb6debd403182d8",
   "execution_count": 31,
   "outputs": []
  },
  {
   "metadata": {
    "ExecuteTime": {
     "end_time": "2024-07-17T06:32:50.441450Z",
     "start_time": "2024-07-17T06:32:50.375665Z"
    }
   },
   "cell_type": "code",
   "source": [
    "daily_sales_volume = find_date_range(df)\n",
    "daily_sales_volume.shape"
   ],
   "id": "44b179f891c0c1a",
   "execution_count": 32,
   "outputs": []
  },
  {
   "metadata": {
    "ExecuteTime": {
     "end_time": "2024-07-17T06:33:06.818339Z",
     "start_time": "2024-07-17T06:33:06.781284Z"
    }
   },
   "cell_type": "code",
   "source": "daily_sales_volume.head()",
   "id": "ac59bfb4f6cd9faa",
   "execution_count": 33,
   "outputs": []
  },
  {
   "metadata": {
    "ExecuteTime": {
     "end_time": "2024-07-17T06:34:19.118859Z",
     "start_time": "2024-07-17T06:34:19.104597Z"
    }
   },
   "cell_type": "code",
   "source": [
    "daily_sales_volume.isna().sum()\n",
    "\n",
    "##There are now 135 dates with null values"
   ],
   "id": "eb89c73e29636f96",
   "execution_count": 35,
   "outputs": []
  },
  {
   "metadata": {
    "ExecuteTime": {
     "end_time": "2024-07-17T06:39:06.411212Z",
     "start_time": "2024-07-17T06:39:06.319123Z"
    }
   },
   "cell_type": "code",
   "source": [
    "#Backfill all the null dates to preserve the directon of trend\n",
    "# Fill any remaining NaN values\n",
    "daily_sales_volume = daily_sales_volume.fillna(method='bfill')\n",
    "daily_sales_volume.isna().sum()"
   ],
   "id": "eb38861bd1d3caf4",
   "execution_count": 38,
   "outputs": []
  },
  {
   "metadata": {
    "ExecuteTime": {
     "end_time": "2024-07-17T06:40:44.356209Z",
     "start_time": "2024-07-17T06:40:41.305973Z"
    }
   },
   "cell_type": "code",
   "source": [
    "# Decompose the time series\n",
    "decomposition = seasonal_decompose(daily_sales_volume['quantity_winsorized'], model='multiplicative', period=365)\n",
    "fig = decomposition.plot()\n",
    "plt.show();\n",
    "\n",
    "#downward trend"
   ],
   "id": "c5d848f03b1702e9",
   "execution_count": 40,
   "outputs": []
  },
  {
   "metadata": {
    "ExecuteTime": {
     "end_time": "2024-07-17T06:42:21.606193Z",
     "start_time": "2024-07-17T06:42:21.593432Z"
    }
   },
   "cell_type": "code",
   "source": [
    "daily_sales_volume = daily_sales_volume[[\"date\",\"quantity_winsorized\"]]\n",
    "daily_sales_volume.head(15)"
   ],
   "id": "71c8e2beaa6c6a82",
   "execution_count": 42,
   "outputs": []
  },
  {
   "metadata": {
    "ExecuteTime": {
     "end_time": "2024-07-17T06:45:11.684626Z",
     "start_time": "2024-07-17T06:45:11.635497Z"
    }
   },
   "cell_type": "code",
   "source": [
    "daily_sales_volume.rename(columns={\"quantity_winsorized\":\"quantity\"},inplace=True)\n",
    "daily_sales_volume.to_csv(\"processed.csv\")\n",
    "daily_sales_volume.head()"
   ],
   "id": "21f18a52de4795",
   "execution_count": 44,
   "outputs": []
  },
  {
   "metadata": {},
   "cell_type": "code",
   "execution_count": null,
   "source": "",
   "id": "1030d46a0456cee3",
   "outputs": []
  }
 ],
 "metadata": {
  "kernelspec": {
   "display_name": "Python 3",
   "language": "python",
   "name": "python3"
  },
  "language_info": {
   "codemirror_mode": {
    "name": "ipython",
    "version": 2
   },
   "file_extension": ".py",
   "mimetype": "text/x-python",
   "name": "python",
   "nbconvert_exporter": "python",
   "pygments_lexer": "ipython2",
   "version": "2.7.6"
  }
 },
 "nbformat": 4,
 "nbformat_minor": 5
}
