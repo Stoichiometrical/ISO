{
 "cells": [
  {
   "metadata": {},
   "cell_type": "markdown",
   "source": "# Data Preprocessing and Exploration",
   "id": "673046c5d30ef89e"
  },
  {
   "metadata": {},
   "cell_type": "markdown",
   "source": "-This notebook initiates the model selection process by exploring the data and preprocessing it for model training and furthur processing.The data used is 2 years sales data of an online retailer in the UK between December 2009 and January 2012.",
   "id": "a2b33b4fde6f1baf"
  },
  {
   "metadata": {
    "ExecuteTime": {
     "end_time": "2024-08-01T21:54:27.634490Z",
     "start_time": "2024-08-01T21:54:27.628474Z"
    }
   },
   "cell_type": "code",
   "source": [
    "#Import relevant libraries\n",
    "import warnings\n",
    "warnings.filterwarnings('ignore')\n",
    "import random\n",
    "import numpy as np\n",
    "import pandas as pd\n",
    "import seaborn as sns\n",
    "import matplotlib.pyplot as plt\n",
    "import matplotlib.gridspec as gr"
   ],
   "id": "477e92effc1740bf",
   "execution_count": 40,
   "outputs": []
  },
  {
   "metadata": {
    "ExecuteTime": {
     "end_time": "2024-08-01T20:46:29.724818Z",
     "start_time": "2024-08-01T20:41:44.496258Z"
    }
   },
   "cell_type": "code",
   "source": [
    "df1 = pd.read_excel(\"online_retail_II.xlsx\",sheet_name=\"Year 2009-2010\")\n",
    "df2 = pd.read_excel(\"online_retail_II.xlsx\",sheet_name=\"Year 2010-2011\")\n",
    "df1\n"
   ],
   "id": "f707a91db31155b7",
   "execution_count": 3,
   "outputs": []
  },
  {
   "metadata": {
    "ExecuteTime": {
     "end_time": "2024-08-01T20:46:29.744473Z",
     "start_time": "2024-08-01T20:46:29.727831Z"
    }
   },
   "cell_type": "code",
   "source": [
    "print(\"Min Date:\", df1[\"InvoiceDate\"].min())\n",
    "print(\"Max Date:\", df1[\"InvoiceDate\"].max())\n"
   ],
   "id": "4319fc5bd1b3d37",
   "execution_count": 4,
   "outputs": []
  },
  {
   "metadata": {
    "ExecuteTime": {
     "end_time": "2024-08-01T20:46:29.802928Z",
     "start_time": "2024-08-01T20:46:29.746484Z"
    }
   },
   "cell_type": "code",
   "source": [
    "print(\"Min Date:\", df2[\"InvoiceDate\"].min())\n",
    "print(\"Max Date:\", df2[\"InvoiceDate\"].max())\n"
   ],
   "id": "26ca7aaaa7d828b0",
   "execution_count": 5,
   "outputs": []
  },
  {
   "metadata": {
    "ExecuteTime": {
     "end_time": "2024-08-01T20:46:31.209139Z",
     "start_time": "2024-08-01T20:46:29.810939Z"
    }
   },
   "cell_type": "code",
   "source": [
    "df1[\"year\"] = df1[\"InvoiceDate\"].dt.year\n",
    "df1[\"date\"] = df1[\"InvoiceDate\"].dt.date\n",
    "df2[\"year\"] = df2[\"InvoiceDate\"].dt.year\n",
    "df2[\"date\"] = df2[\"InvoiceDate\"].dt.date\n",
    "df1\n"
   ],
   "id": "41e8212b0c300bbb",
   "execution_count": 6,
   "outputs": []
  },
  {
   "metadata": {
    "ExecuteTime": {
     "end_time": "2024-08-01T20:46:31.230723Z",
     "start_time": "2024-08-01T20:46:31.214153Z"
    }
   },
   "cell_type": "code",
   "source": [
    "print(\"D1 MAX:\", df1[\"InvoiceDate\"].max())\n",
    "print(\"D2 MIN:\", df2[\"InvoiceDate\"].min())"
   ],
   "id": "4c8752bd634829b2",
   "execution_count": 7,
   "outputs": []
  },
  {
   "metadata": {
    "ExecuteTime": {
     "end_time": "2024-08-01T20:46:31.347191Z",
     "start_time": "2024-08-01T20:46:31.236739Z"
    }
   },
   "cell_type": "code",
   "source": [
    "# Concatenate the DataFrames\n",
    "merged_df = pd.concat([df1, df2], ignore_index=True)\n",
    "merged_df"
   ],
   "id": "91e8215d3beed371",
   "execution_count": 8,
   "outputs": []
  },
  {
   "metadata": {
    "ExecuteTime": {
     "end_time": "2024-08-01T20:46:31.368628Z",
     "start_time": "2024-08-01T20:46:31.350203Z"
    }
   },
   "cell_type": "code",
   "source": [
    "print(\"Merged max :\", merged_df[\"InvoiceDate\"].max())\n",
    "print(\"Merged min :\", merged_df[\"InvoiceDate\"].min())"
   ],
   "id": "d2cff6fe90374570",
   "execution_count": 9,
   "outputs": []
  },
  {
   "metadata": {
    "ExecuteTime": {
     "end_time": "2024-08-01T20:46:48.744940Z",
     "start_time": "2024-08-01T20:46:31.371640Z"
    }
   },
   "cell_type": "code",
   "source": "merged_df.to_csv(\"uk_dataset_full.csv\")",
   "id": "898fa681e559abae",
   "execution_count": 10,
   "outputs": []
  },
  {
   "metadata": {
    "ExecuteTime": {
     "end_time": "2024-08-01T20:46:48.766316Z",
     "start_time": "2024-08-01T20:46:48.745947Z"
    }
   },
   "cell_type": "code",
   "source": "merged_df[\"year\"].value_counts()",
   "id": "f55dd4675bf5bfb9",
   "execution_count": 11,
   "outputs": []
  },
  {
   "metadata": {
    "ExecuteTime": {
     "end_time": "2024-08-01T20:46:48.787940Z",
     "start_time": "2024-08-01T20:46:48.774329Z"
    }
   },
   "cell_type": "code",
   "source": "merged_df[\"Quantity\"].min()",
   "id": "6b15e719e6d2c5cd",
   "execution_count": 12,
   "outputs": []
  },
  {
   "metadata": {
    "ExecuteTime": {
     "end_time": "2024-08-01T20:46:48.948656Z",
     "start_time": "2024-08-01T20:46:48.789953Z"
    }
   },
   "cell_type": "code",
   "source": [
    "merged_df = merged_df[merged_df[\"Quantity\"]>0]\n",
    "merged_df.shape"
   ],
   "id": "f2395ac2f7e8caed",
   "execution_count": 13,
   "outputs": []
  },
  {
   "metadata": {
    "ExecuteTime": {
     "end_time": "2024-08-01T20:46:49.119732Z",
     "start_time": "2024-08-01T20:46:48.950668Z"
    }
   },
   "cell_type": "code",
   "source": [
    "merged_daily = merged_df.groupby('date')['Quantity'].sum().reset_index()\n",
    "merged_daily"
   ],
   "id": "8c62b6da9844998c",
   "execution_count": 14,
   "outputs": []
  },
  {
   "metadata": {
    "ExecuteTime": {
     "end_time": "2024-08-01T20:46:50.765219Z",
     "start_time": "2024-08-01T20:46:49.123744Z"
    }
   },
   "cell_type": "code",
   "source": [
    "plt.figure(figsize=(10,5))\n",
    "plt.plot(merged_daily[\"date\"],merged_daily[\"Quantity\"]);"
   ],
   "id": "a4a9efd207c25a0f",
   "execution_count": 15,
   "outputs": []
  },
  {
   "metadata": {
    "ExecuteTime": {
     "end_time": "2024-08-01T21:55:27.447748Z",
     "start_time": "2024-08-01T21:55:27.441386Z"
    }
   },
   "cell_type": "code",
   "source": [
    "def find_date_range(df):\n",
    "    min_date =df['date'].min()\n",
    "    max_date = df['date'].max()\n",
    "    date_range = pd.date_range(start=min_date, end=max_date)\n",
    "    df = df.set_index('date').reindex(date_range).rename_axis('date').reset_index()\n",
    "    return  df\n",
    "    "
   ],
   "id": "fc6d7fcecba5ba6a",
   "execution_count": 41,
   "outputs": []
  },
  {
   "metadata": {
    "ExecuteTime": {
     "end_time": "2024-08-01T20:46:50.787629Z",
     "start_time": "2024-08-01T20:46:50.769233Z"
    }
   },
   "cell_type": "code",
   "source": [
    "df = find_date_range(merged_daily)\n",
    "df.shape"
   ],
   "id": "312176197da3fe3d",
   "execution_count": 16,
   "outputs": []
  },
  {
   "metadata": {
    "ExecuteTime": {
     "end_time": "2024-08-01T20:46:50.853324Z",
     "start_time": "2024-08-01T20:46:50.792643Z"
    }
   },
   "cell_type": "code",
   "source": "merged_daily.shape",
   "id": "e6a65e0d5c647216",
   "execution_count": 17,
   "outputs": []
  },
  {
   "metadata": {
    "ExecuteTime": {
     "end_time": "2024-08-01T20:46:50.875079Z",
     "start_time": "2024-08-01T20:46:50.855338Z"
    }
   },
   "cell_type": "code",
   "source": "df.isna().sum()",
   "id": "3146028894a0aeaf",
   "execution_count": 18,
   "outputs": []
  },
  {
   "metadata": {
    "ExecuteTime": {
     "end_time": "2024-08-01T20:46:50.886687Z",
     "start_time": "2024-08-01T20:46:50.877091Z"
    }
   },
   "cell_type": "code",
   "source": "df.interpolate(method='linear', inplace=True)",
   "id": "d57d9af40f7c5530",
   "execution_count": 19,
   "outputs": []
  },
  {
   "metadata": {
    "ExecuteTime": {
     "end_time": "2024-08-01T20:46:50.903384Z",
     "start_time": "2024-08-01T20:46:50.888700Z"
    }
   },
   "cell_type": "code",
   "source": [
    "df['Quantity'] = df['Quantity'].ffill()\n",
    "df.isna().sum()"
   ],
   "id": "890957ba761cae82",
   "execution_count": 20,
   "outputs": []
  },
  {
   "metadata": {
    "ExecuteTime": {
     "end_time": "2024-08-01T20:46:51.534619Z",
     "start_time": "2024-08-01T20:46:50.905398Z"
    }
   },
   "cell_type": "code",
   "source": [
    "plt.figure(figsize=(16,7))\n",
    "plt.plot(merged_daily[\"date\"],merged_daily[\"Quantity\"])\n"
   ],
   "id": "a0e75d7f951afbc1",
   "execution_count": 21,
   "outputs": []
  },
  {
   "metadata": {
    "ExecuteTime": {
     "end_time": "2024-08-01T20:46:52.125686Z",
     "start_time": "2024-08-01T20:46:51.536628Z"
    }
   },
   "cell_type": "code",
   "source": [
    "plt.figure(figsize=(16,7))\n",
    "plt.plot(df[\"date\"],df[\"Quantity\"]);"
   ],
   "id": "e61b5d4f8f0bc320",
   "execution_count": 22,
   "outputs": []
  },
  {
   "metadata": {
    "ExecuteTime": {
     "end_time": "2024-08-01T20:46:52.134735Z",
     "start_time": "2024-08-01T20:46:52.126697Z"
    }
   },
   "cell_type": "code",
   "source": "# df.to_csv(\"uk_daily_sales_full.csv\")",
   "id": "33e8cd421e57558c",
   "execution_count": 23,
   "outputs": []
  },
  {
   "metadata": {},
   "cell_type": "markdown",
   "source": "## UK Dataset Preprocessing",
   "id": "68f85eaa4e51ea31"
  },
  {
   "metadata": {
    "ExecuteTime": {
     "end_time": "2024-08-01T20:47:30.442697Z",
     "start_time": "2024-08-01T20:47:30.430483Z"
    }
   },
   "cell_type": "code",
   "source": [
    "df = pd.read_csv(\"uk_daily_sales_full.csv\")\n",
    "df.isna().sum()"
   ],
   "id": "8e0112f9262a5bf5",
   "execution_count": 25,
   "outputs": []
  },
  {
   "metadata": {
    "ExecuteTime": {
     "end_time": "2024-08-01T20:47:35.765233Z",
     "start_time": "2024-08-01T20:47:35.743445Z"
    }
   },
   "cell_type": "code",
   "source": [
    "df = pd.read_csv(\"uk_daily_sales_full.csv\", parse_dates=['date'], index_col='date')\n",
    "df =df.asfreq('D')\n",
    "df.head(10)"
   ],
   "id": "102087aa77e999ad",
   "execution_count": 26,
   "outputs": []
  },
  {
   "metadata": {
    "ExecuteTime": {
     "end_time": "2024-08-01T20:47:39.696566Z",
     "start_time": "2024-08-01T20:47:39.691688Z"
    }
   },
   "cell_type": "code",
   "source": [
    "def plot_graph(data):\n",
    "    plt.figure(figsize=(12,6))\n",
    "    plt.plot(data[\"quantity\"]);"
   ],
   "id": "38069b62afd10bb8",
   "execution_count": 27,
   "outputs": []
  },
  {
   "metadata": {
    "ExecuteTime": {
     "end_time": "2024-08-01T20:47:43.958642Z",
     "start_time": "2024-08-01T20:47:43.946622Z"
    }
   },
   "cell_type": "code",
   "source": [
    "df = df[[\"Quantity\"]]\n",
    "df.rename(columns={\"Quantity\":\"quantity\"},inplace=True)\n",
    "df.head(5)"
   ],
   "id": "8f6ed5f40cf3b87",
   "execution_count": 28,
   "outputs": []
  },
  {
   "metadata": {
    "ExecuteTime": {
     "end_time": "2024-08-01T20:47:46.894869Z",
     "start_time": "2024-08-01T20:47:46.820935Z"
    }
   },
   "cell_type": "code",
   "source": [
    "import holidays\n",
    "# Function to create date features\n",
    "def create_date_features(data):\n",
    "    data[\"month\"] = data.index.month\n",
    "    data[\"day_of_month\"] = data.index.day\n",
    "    data[\"is_month_start\"] = data.index.is_month_start.astype(int)\n",
    "    data[\"is_month_end\"] = data.index.is_month_end.astype(int)\n",
    "    data[\"day_of_year\"] = data.index.dayofyear\n",
    "    data[\"week_of_year\"] = data.index.isocalendar().week\n",
    "    data[\"day_of_week\"] = data.index.dayofweek + 1\n",
    "    data[\"year\"] = data.index.year\n",
    "    data[\"is_weekend\"] = data.index.weekday\n",
    "    data['is_spring'] = data['month'].isin([3, 4, 5]).astype(int)\n",
    "    data['is_summer'] = data['month'].isin([6, 7, 8]).astype(int)\n",
    "    data['is_fall'] = data['month'].isin([9, 10, 11]).astype(int)\n",
    "    data['is_winter'] = data['month'].isin([12, 1, 2]).astype(int)\n",
    "    data['sin_day'] = np.sin(2 * np.pi * data.index.dayofweek / 7)\n",
    "    data['cos_day'] = np.cos(2 * np.pi * data.index.dayofweek / 7)\n",
    "    return data"
   ],
   "id": "32197d4f8e121158",
   "execution_count": 29,
   "outputs": []
  },
  {
   "metadata": {
    "ExecuteTime": {
     "end_time": "2024-08-01T20:47:49.096039Z",
     "start_time": "2024-08-01T20:47:49.058140Z"
    }
   },
   "cell_type": "code",
   "source": [
    "df = create_date_features(df)\n",
    "df.head(5)"
   ],
   "id": "9a65a1e4673077ef",
   "execution_count": 30,
   "outputs": []
  },
  {
   "metadata": {
    "ExecuteTime": {
     "end_time": "2024-08-01T20:47:52.851353Z",
     "start_time": "2024-08-01T20:47:52.442568Z"
    }
   },
   "cell_type": "code",
   "source": [
    "#Add holidays\n",
    " # Determine public holidays\n",
    "holiday = holidays.UK()\n",
    "df['is_public_holiday'] = df.index.map(lambda x: 1 if x in holiday else 0)"
   ],
   "id": "f3d6f294f40637e5",
   "execution_count": 31,
   "outputs": []
  },
  {
   "metadata": {
    "ExecuteTime": {
     "end_time": "2024-08-01T20:47:55.660287Z",
     "start_time": "2024-08-01T20:47:55.651233Z"
    }
   },
   "cell_type": "code",
   "source": [
    "def create_lag_and_window_features(data, target_col):\n",
    "    \"\"\"\n",
    "    Create lag and window features for a given DataFrame and target column.\n",
    "    \n",
    "    Parameters:\n",
    "    data (pd.DataFrame): The input DataFrame.\n",
    "    target_col (str): The name of the target column to create features for.\n",
    "\n",
    "    Returns:\n",
    "    pd.DataFrame: DataFrame with lag and window features.\n",
    "    \"\"\"\n",
    "    # Create lag features for the past week\n",
    "    for i in range(1, 8):\n",
    "        data[f'lag_{i}'] = data[target_col].shift(i)\n",
    "\n",
    "    # Rolling window statistics for 7 days\n",
    "    data['rolling_mean_7'] = data[target_col].rolling(window=7).mean()\n",
    "    data['rolling_sum_7'] = data[target_col].rolling(window=7).sum()\n",
    "    data['rolling_std_7'] = data[target_col].rolling(window=7).std()\n",
    "\n",
    "    # Rolling window statistics for 30 days\n",
    "    data['rolling_mean_30'] = data[target_col].rolling(window=30).mean()\n",
    "    data['rolling_sum_30'] = data[target_col].rolling(window=30).sum()\n",
    "    data['rolling_std_30'] = data[target_col].rolling(window=30).std()\n",
    "\n",
    "    # Expanding window statistics\n",
    "    data['expanding_sum'] = data[target_col].expanding().sum()\n",
    "\n",
    "    return data"
   ],
   "id": "cc0ded62674eafed",
   "execution_count": 32,
   "outputs": []
  },
  {
   "metadata": {
    "ExecuteTime": {
     "end_time": "2024-08-01T20:48:03.097545Z",
     "start_time": "2024-08-01T20:48:03.047638Z"
    }
   },
   "cell_type": "code",
   "source": [
    "df = create_lag_and_window_features(df, 'quantity')\n",
    "df.head(5)"
   ],
   "id": "7bb87b6114c6891b",
   "execution_count": 33,
   "outputs": []
  },
  {
   "metadata": {
    "ExecuteTime": {
     "end_time": "2024-08-01T20:48:07.808910Z",
     "start_time": "2024-08-01T20:48:07.767012Z"
    }
   },
   "cell_type": "code",
   "source": [
    "# Fill any remaining NaN values\n",
    "df = df.fillna(method='bfill')\n",
    "df.head(5)"
   ],
   "id": "689515c60d1ede78",
   "execution_count": 34,
   "outputs": []
  },
  {
   "metadata": {},
   "cell_type": "markdown",
   "source": "## Outlier detection",
   "id": "2908ff84902d3ae0"
  },
  {
   "metadata": {
    "ExecuteTime": {
     "end_time": "2024-08-01T20:48:13.709066Z",
     "start_time": "2024-08-01T20:48:13.031541Z"
    }
   },
   "cell_type": "code",
   "source": [
    "# Line plot\n",
    "plt.figure(figsize=(12, 6))\n",
    "plt.plot(df['quantity'])\n",
    "plt.title('Time Series Plot')\n",
    "plt.show()\n",
    "\n",
    "# Box plot\n",
    "plt.figure(figsize=(12, 6))\n",
    "plt.boxplot(df['quantity'], vert=False)\n",
    "plt.title('Box Plot of Quantity')\n",
    "plt.show();"
   ],
   "id": "5550f880546c04",
   "execution_count": 35,
   "outputs": []
  },
  {
   "metadata": {
    "ExecuteTime": {
     "end_time": "2024-08-01T20:48:17.270388Z",
     "start_time": "2024-08-01T20:48:17.239517Z"
    }
   },
   "cell_type": "code",
   "source": [
    "# Set winsorization threshold\n",
    "threshold = 60000\n",
    "\n",
    "# Winsorize the 'quantity' column\n",
    "df['quantity_winsorized'] = df['quantity'].where(df['quantity'] <= threshold, threshold)\n",
    "df.head(5)"
   ],
   "id": "5e1636ee2d4c6ec",
   "execution_count": 36,
   "outputs": []
  },
  {
   "metadata": {
    "ExecuteTime": {
     "end_time": "2024-08-01T20:48:26.680109Z",
     "start_time": "2024-08-01T20:48:26.158936Z"
    }
   },
   "cell_type": "code",
   "source": [
    "plt.figure(figsize=(10,6))\n",
    "plt.plot(df[\"quantity_winsorized\"]);"
   ],
   "id": "5067ea3b0614da67",
   "execution_count": 37,
   "outputs": []
  },
  {
   "metadata": {
    "ExecuteTime": {
     "end_time": "2024-08-01T20:48:32.793309Z",
     "start_time": "2024-08-01T20:48:31.867363Z"
    }
   },
   "cell_type": "code",
   "source": [
    "df_2010 = df[df['year'] == 2010]\n",
    "\n",
    "# Plot the 'quantity' column for the year 2010\n",
    "plt.figure(figsize=(10, 6))\n",
    "plt.plot(df_2010['quantity'], label='Quantity')\n",
    "plt.title('Sales Volume in 2010')\n",
    "plt.xlabel('Date')\n",
    "plt.ylabel('Quantity')\n",
    "plt.legend()\n",
    "plt.show();"
   ],
   "id": "352b695778bc952d",
   "execution_count": 38,
   "outputs": []
  },
  {
   "metadata": {
    "ExecuteTime": {
     "end_time": "2024-08-01T20:48:36.812633Z",
     "start_time": "2024-08-01T20:48:35.978453Z"
    }
   },
   "cell_type": "code",
   "source": [
    "df_2011 = df[df['year'] == 2011]\n",
    "\n",
    "# Plot the 'quantity' column for the year 2010\n",
    "plt.figure(figsize=(10, 6))\n",
    "plt.plot(df_2011['quantity_winsorized'], label='Quantity')\n",
    "plt.title('Sales Volume in 2011')\n",
    "plt.xlabel('Date')\n",
    "plt.ylabel('Quantity')\n",
    "plt.legend()\n",
    "plt.show();"
   ],
   "id": "2a56d1de292870c2",
   "execution_count": 39,
   "outputs": []
  },
  {
   "metadata": {
    "ExecuteTime": {
     "end_time": "2024-08-01T21:57:38.842345Z",
     "start_time": "2024-08-01T21:57:38.825746Z"
    }
   },
   "cell_type": "code",
   "source": "df.info()",
   "id": "aaeb78ead8d4257c",
   "execution_count": 42,
   "outputs": []
  },
  {
   "metadata": {
    "ExecuteTime": {
     "end_time": "2024-08-01T21:57:54.875709Z",
     "start_time": "2024-08-01T21:57:54.763859Z"
    }
   },
   "cell_type": "code",
   "source": "df.describe()",
   "id": "750b8193f98edc17",
   "execution_count": 43,
   "outputs": []
  },
  {
   "metadata": {},
   "cell_type": "code",
   "execution_count": null,
   "source": "df.to_csv(\"processed_full.csv\")",
   "id": "cabd4ea420cebcd8",
   "outputs": []
  }
 ],
 "metadata": {
  "kernelspec": {
   "display_name": "Python 3",
   "language": "python",
   "name": "python3"
  },
  "language_info": {
   "codemirror_mode": {
    "name": "ipython",
    "version": 2
   },
   "file_extension": ".py",
   "mimetype": "text/x-python",
   "name": "python",
   "nbconvert_exporter": "python",
   "pygments_lexer": "ipython2",
   "version": "2.7.6"
  }
 },
 "nbformat": 4,
 "nbformat_minor": 5
}
